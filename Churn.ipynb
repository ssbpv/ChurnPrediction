{
 "cells": [
  {
   "cell_type": "markdown",
   "metadata": {},
   "source": [
    "#  To analyze usage patterns and user retention."
   ]
  },
  {
   "cell_type": "code",
   "execution_count": 1,
   "metadata": {
    "collapsed": true
   },
   "outputs": [],
   "source": [
    "%matplotlib inline\n",
    "import pandas as pd\n",
    "import numpy as np\n",
    "import matplotlib.pylab as plt\n",
    "import seaborn as sns\n",
    "\n",
    "import datetime\n",
    "\n",
    "from sklearn.model_selection import cross_val_score\n",
    "from sklearn.metrics import accuracy_score, make_scorer\n",
    "from sklearn.metrics import confusion_matrix, f1_score, precision_score,recall_score\n",
    "from sklearn.preprocessing import OneHotEncoder\n",
    "\n",
    "from sklearn.ensemble import RandomForestClassifier\n",
    "from sklearn.model_selection import train_test_split\n",
    "from sklearn.model_selection import GridSearchCV\n",
    "from sklearn.model_selection import RandomizedSearchCV\n",
    "\n",
    "from sklearn.linear_model import LogisticRegression\n",
    "\n",
    "\n",
    "from sklearn import preprocessing\n",
    "\n",
    "\n",
    "pd.set_option('display.max_columns',None)\n",
    "pd.set_option('display.max_rows',20000)"
   ]
  },
  {
   "cell_type": "markdown",
   "metadata": {},
   "source": [
    "## Load data set from local folder and inital data exploration"
   ]
  },
  {
   "cell_type": "code",
   "execution_count": 2,
   "metadata": {},
   "outputs": [
    {
     "data": {
      "text/plain": [
       "Index(['user', 'day', 'usage'], dtype='object')"
      ]
     },
     "execution_count": 2,
     "metadata": {},
     "output_type": "execute_result"
    }
   ],
   "source": [
    "df = pd.read_csv('usage.csv')\n",
    "df.columns"
   ]
  },
  {
   "cell_type": "code",
   "execution_count": 3,
   "metadata": {},
   "outputs": [
    {
     "data": {
      "text/plain": [
       "875243"
      ]
     },
     "execution_count": 3,
     "metadata": {},
     "output_type": "execute_result"
    }
   ],
   "source": [
    "len(df)"
   ]
  },
  {
   "cell_type": "code",
   "execution_count": 4,
   "metadata": {
    "scrolled": true
   },
   "outputs": [
    {
     "data": {
      "text/html": [
       "<div>\n",
       "<style>\n",
       "    .dataframe thead tr:only-child th {\n",
       "        text-align: right;\n",
       "    }\n",
       "\n",
       "    .dataframe thead th {\n",
       "        text-align: left;\n",
       "    }\n",
       "\n",
       "    .dataframe tbody tr th {\n",
       "        vertical-align: top;\n",
       "    }\n",
       "</style>\n",
       "<table border=\"1\" class=\"dataframe\">\n",
       "  <thead>\n",
       "    <tr style=\"text-align: right;\">\n",
       "      <th></th>\n",
       "      <th>user</th>\n",
       "      <th>day</th>\n",
       "      <th>usage</th>\n",
       "    </tr>\n",
       "  </thead>\n",
       "  <tbody>\n",
       "    <tr>\n",
       "      <th>0</th>\n",
       "      <td>00097b5304ac028d14ec093cba2c41f76126fab4</td>\n",
       "      <td>0</td>\n",
       "      <td>0</td>\n",
       "    </tr>\n",
       "    <tr>\n",
       "      <th>1</th>\n",
       "      <td>00097b5304ac028d14ec093cba2c41f76126fab4</td>\n",
       "      <td>1</td>\n",
       "      <td>0</td>\n",
       "    </tr>\n",
       "    <tr>\n",
       "      <th>2</th>\n",
       "      <td>00097b5304ac028d14ec093cba2c41f76126fab4</td>\n",
       "      <td>2</td>\n",
       "      <td>0</td>\n",
       "    </tr>\n",
       "    <tr>\n",
       "      <th>3</th>\n",
       "      <td>00097b5304ac028d14ec093cba2c41f76126fab4</td>\n",
       "      <td>3</td>\n",
       "      <td>0</td>\n",
       "    </tr>\n",
       "    <tr>\n",
       "      <th>4</th>\n",
       "      <td>00097b5304ac028d14ec093cba2c41f76126fab4</td>\n",
       "      <td>4</td>\n",
       "      <td>0</td>\n",
       "    </tr>\n",
       "  </tbody>\n",
       "</table>\n",
       "</div>"
      ],
      "text/plain": [
       "                                       user  day  usage\n",
       "0  00097b5304ac028d14ec093cba2c41f76126fab4    0      0\n",
       "1  00097b5304ac028d14ec093cba2c41f76126fab4    1      0\n",
       "2  00097b5304ac028d14ec093cba2c41f76126fab4    2      0\n",
       "3  00097b5304ac028d14ec093cba2c41f76126fab4    3      0\n",
       "4  00097b5304ac028d14ec093cba2c41f76126fab4    4      0"
      ]
     },
     "execution_count": 4,
     "metadata": {},
     "output_type": "execute_result"
    }
   ],
   "source": [
    "df.head()"
   ]
  },
  {
   "cell_type": "code",
   "execution_count": 5,
   "metadata": {
    "scrolled": false
   },
   "outputs": [
    {
     "data": {
      "text/plain": [
       "5149"
      ]
     },
     "execution_count": 5,
     "metadata": {},
     "output_type": "execute_result"
    }
   ],
   "source": [
    "len(df['user'].unique())"
   ]
  },
  {
   "cell_type": "code",
   "execution_count": 6,
   "metadata": {
    "scrolled": true
   },
   "outputs": [
    {
     "data": {
      "text/plain": [
       "False"
      ]
     },
     "execution_count": 6,
     "metadata": {},
     "output_type": "execute_result"
    }
   ],
   "source": [
    "df.isnull().any().any()"
   ]
  },
  {
   "cell_type": "code",
   "execution_count": 7,
   "metadata": {
    "scrolled": false
   },
   "outputs": [
    {
     "data": {
      "text/plain": [
       "user     False\n",
       "day      False\n",
       "usage    False\n",
       "dtype: bool"
      ]
     },
     "execution_count": 7,
     "metadata": {},
     "output_type": "execute_result"
    }
   ],
   "source": [
    "df.isnull().any()"
   ]
  },
  {
   "cell_type": "code",
   "execution_count": 8,
   "metadata": {
    "scrolled": false
   },
   "outputs": [
    {
     "data": {
      "text/plain": [
       "0    589540\n",
       "1    285703\n",
       "Name: usage, dtype: int64"
      ]
     },
     "execution_count": 8,
     "metadata": {},
     "output_type": "execute_result"
    }
   ],
   "source": [
    "df['usage'].value_counts()"
   ]
  },
  {
   "cell_type": "code",
   "execution_count": 87,
   "metadata": {
    "collapsed": true
   },
   "outputs": [],
   "source": [
    "# df=df.set_index(pd.DatetimeIndex(df['day']))\n",
    "# df.head()"
   ]
  },
  {
   "cell_type": "code",
   "execution_count": 88,
   "metadata": {
    "collapsed": true,
    "scrolled": false
   },
   "outputs": [],
   "source": [
    "# df=df.set_index('day')\n",
    "# df.head()"
   ]
  },
  {
   "cell_type": "markdown",
   "metadata": {},
   "source": [
    "### I wanted to look at the trends in the raw data so I pulled up information for one user"
   ]
  },
  {
   "cell_type": "code",
   "execution_count": 89,
   "metadata": {},
   "outputs": [
    {
     "data": {
      "text/plain": [
       "176"
      ]
     },
     "execution_count": 89,
     "metadata": {},
     "output_type": "execute_result"
    }
   ],
   "source": [
    "df_u1=df.loc[df['user'] == '00097b5304ac028d14ec093cba2c41f76126fab4']\n",
    "len(df_u1)"
   ]
  },
  {
   "cell_type": "code",
   "execution_count": 90,
   "metadata": {
    "scrolled": true
   },
   "outputs": [
    {
     "data": {
      "text/plain": [
       "<matplotlib.axes._subplots.AxesSubplot at 0x7f54e06132b0>"
      ]
     },
     "execution_count": 90,
     "metadata": {},
     "output_type": "execute_result"
    },
    {
     "data": {
      "image/png": "[encoded data removed]",
      "text/plain": [
       "<matplotlib.figure.Figure at 0x7f54e028bbe0>"
      ]
     },
     "metadata": {},
     "output_type": "display_data"
    }
   ],
   "source": [
    "colors1 = ['grey' if x==True else 'red' for x in df_u1.usage]\n",
    "\n",
    "sns.barplot(x=df_u1.index,y=df_u1.usage,palette=colors1)"
   ]
  },
  {
   "cell_type": "markdown",
   "metadata": {},
   "source": [
    "### Plot the trend for  1 user"
   ]
  },
  {
   "cell_type": "code",
   "execution_count": 12,
   "metadata": {
    "collapsed": true
   },
   "outputs": [],
   "source": [
    "win = 30\n",
    "rollMean = df_u1.usage.rolling(window=win, center=False).mean()\n",
    "rollStd = df_u1.usage.rolling(window=win, center=False).std()"
   ]
  },
  {
   "cell_type": "code",
   "execution_count": 91,
   "metadata": {
    "scrolled": true
   },
   "outputs": [
    {
     "data": {
      "image/png": "[encoded data removed]",
      "text/plain": [
       "<matplotlib.figure.Figure at 0x7f54dc3b6208>"
      ]
     },
     "metadata": {},
     "output_type": "display_data"
    }
   ],
   "source": [
    "# plot the rolling stats\n",
    "sns.set_context('talk')\n",
    "fig, (ax1, ax2) = plt.subplots(2)\n",
    "ax1.plot(df_u1.usage, label='Raw Data')\n",
    "ax1.plot(rollMean, label='Rolling Mean')\n",
    "ax1.set_ylabel('Mean')\n",
    "ax1.legend()\n",
    "ax2.plot(rollStd, label='Rolling Std')\n",
    "ax2.set_xlabel('days')\n",
    "ax2.set_ylabel('Std')\n",
    "sns.despine()"
   ]
  },
  {
   "cell_type": "markdown",
   "metadata": {},
   "source": [
    "## Find longest run where usage = 0 for 1 user (ref code from stackoverflow)"
   ]
  },
  {
   "cell_type": "code",
   "execution_count": 92,
   "metadata": {},
   "outputs": [
    {
     "name": "stdout",
     "output_type": "stream",
     "text": [
      "59\n"
     ]
    }
   ],
   "source": [
    "df_usr = df.loc[df['user']=='00097b5304ac028d14ec093cba2c41f76126fab4']\n",
    "ts = pd.Series(df_usr['usage'])\n",
    "ts2 = 1-ts\n",
    "tsgroup = ts.cumsum()\n",
    "consec_0 = ts2.groupby(tsgroup).transform(pd.Series.cumsum)\n",
    "longest_no_usage_usr = consec_0.max()\n",
    "print(longest_no_usage_usr)"
   ]
  },
  {
   "cell_type": "markdown",
   "metadata": {},
   "source": [
    "## Longest run of no usage for all users"
   ]
  },
  {
   "cell_type": "code",
   "execution_count": 17,
   "metadata": {
    "scrolled": true
   },
   "outputs": [
    {
     "name": "stdout",
     "output_type": "stream",
     "text": [
      "[59, 11, 1, 101, 3, 5, 61, 4, 42, 70, 66, 22, 65, 68, 1, 0, 21, 227, 15, 1, 0, 205, 72, 55, 59, 4, 17, 1, 1, 9, 37, 104, 45, 39, 1, 74, 61, 2, 43, 29, 1, 37, 81, 47, 66, 5, 49, 4, 22, 208, 78, 73, 19, 8, 21, 8, 90, 1, 25, 9, 85, 12, 125, 83, 86, 44, 4, 35, 1, 77, 5, 17, 95, 64, 90, 17, 57, 34, 115, 3, 32, 7, 47, 9, 153, 34, 40, 11, 28, 23, 67, 189, 120, 1, 7, 9, 15, 1, 69, 47, 72, 6, 75, 10, 6, 15, 20, 8, 1, 15, 83, 53, 69, 1, 70, 78, 58, 5, 2, 13, 15, 3, 112, 3, 30, 7, 78, 14, 0, 60, 97, 90, 4, 0, 3, 15, 22, 62, 41, 57, 62, 45, 165, 1, 9, 9, 22, 7, 2, 66, 117, 1, 21, 34, 23, 2, 0, 56, 1, 44, 40, 9, 45, 1, 18, 40, 14, 10, 72, 65, 48, 55, 8, 47, 1, 23, 5, 61, 81, 5, 35, 0, 10, 48, 35, 21, 4, 5, 108, 16, 4, 5, 2, 4, 58, 183, 115, 5, 1, 84, 64, 51, 0, 8, 0, 8, 12, 137, 90, 71, 10, 67, 34, 65, 46, 37, 70, 3, 12, 120, 1, 18, 4, 148, 66, 55, 31, 21, 34, 40, 10, 2, 13, 33, 103, 32, 48, 67, 5, 24, 70, 37, 62, 6, 5, 82, 34, 8, 50, 1, 36, 67, 5, 2, 109, 6, 87, 2, 102, 1, 66, 5, 14, 36, 83, 7, 2, 2, 16, 6, 2, 7, 127, 31, 3, 12, 42, 3, 104, 42, 64, 43, 31, 1, 25, 14, 2, 2, 24, 7, 102, 98, 14, 113, 35, 18, 125, 67, 10, 1, 40, 4, 5, 3, 2, 123, 37, 10, 2, 131, 10, 4, 3, 19, 4, 41, 35, 0, 25, 37, 24, 9, 35, 1, 29, 6, 108, 67, 87, 14, 48, 131, 5, 1, 3, 64, 1, 6, 4, 126, 95, 80, 98, 4, 25, 6, 1, 6, 3, 40, 13, 42, 2, 8, 104, 104, 2, 48, 2, 2, 57, 74, 34, 12, 1, 108, 112, 10, 52, 5, 27, 45, 45, 12, 50, 74, 1, 88, 5, 36, 61, 32, 48, 117, 19, 27, 79, 105, 11, 1, 50, 3, 145, 9, 88, 63, 6, 50, 66, 47, 1, 14, 45, 80, 41, 24, 1, 46, 40, 1, 79, 7, 9, 7, 0, 1, 150, 8, 6, 1, 2, 8, 13, 4, 2, 2, 41, 3, 1, 0, 65, 4, 53, 8, 15, 14, 5, 83, 106, 125, 99, 34, 30, 37, 73, 10, 123, 97, 2, 38, 2, 0, 15, 10, 2, 1, 1, 64, 20, 50, 2, 96, 54, 98, 64, 157, 0, 14, 27, 82, 5, 3, 53, 86, 15, 1, 1, 3, 0, 52, 149, 45, 40, 49, 25, 4, 1, 0, 6, 0, 98, 116, 7, 1, 100, 0, 7, 82, 4, 130, 68, 79, 33, 1, 0, 20, 97, 0, 1, 71, 4, 82, 92, 29, 61, 11, 2, 47, 62, 88, 18, 137, 13, 1, 25, 2, 9, 1, 33, 63, 18, 10, 16, 27, 50, 14, 196, 23, 143, 1, 147, 2, 52, 6, 44, 10, 86, 9, 14, 29, 81, 6, 92, 1, 8, 50, 56, 79, 60, 10, 47, 1, 243, 44, 29, 44, 9, 34, 5, 106, 106, 33, 41, 11, 19, 15, 20, 54, 14, 1, 0, 24, 34, 53, 36, 1, 2, 6, 0, 19, 51, 34, 61, 58, 3, 4, 58, 27, 2, 25, 1, 1, 7, 35, 19, 11, 1, 25, 40, 16, 50, 19, 90, 18, 57, 0, 56, 37, 16, 3, 74, 86, 139, 100, 3, 101, 5, 48, 36, 2, 21, 27, 226, 15, 152, 59, 8, 5, 8, 0, 1, 39, 4, 7, 86, 7, 31, 19, 57, 6, 77, 3, 13, 153, 11, 20, 0, 28, 5, 8, 3, 161, 20, 14, 34, 3, 9, 1, 23, 5, 18, 4, 76, 91, 65, 26, 12, 1, 7, 17, 78, 1, 101, 214, 4, 98, 3, 1, 45, 93, 6, 6, 2, 189, 1, 46, 75, 55, 45, 50, 5, 12, 52, 95, 12, 0, 34, 141, 5, 8, 22, 3, 16, 4, 3, 11, 4, 26, 11, 11, 108, 67, 61, 8, 1, 5, 18, 47, 2, 60, 218, 1, 36, 77, 47, 2, 96, 2, 1, 18, 24, 38, 13, 2, 8, 151, 41, 9, 43, 3, 3, 29, 3, 1, 103, 23, 31, 120, 107, 40, 76, 168, 2, 67, 52, 4, 3, 6, 4, 4, 4, 13, 25, 100, 4, 22, 1, 112, 141, 16, 3, 46, 3, 7, 7, 2, 12, 61, 13, 7, 38, 23, 95, 8, 1, 27, 29, 70, 1, 36, 14, 58, 70, 2, 28, 25, 37, 32, 6, 3, 77, 75, 1, 3, 127, 59, 20, 39, 15, 76, 26, 67, 14, 23, 9, 1, 4, 23, 137, 23, 1, 66, 40, 35, 18, 57, 55, 15, 56, 112, 46, 17, 67, 3, 70, 147, 6, 6, 47, 2, 1, 9, 27, 4, 19, 8, 18, 3, 70, 27, 43, 1, 45, 2, 12, 212, 29, 1, 22, 90, 4, 38, 34, 10, 32, 0, 66, 1, 82, 33, 52, 29, 39, 1, 11, 1, 20, 23, 76, 1, 6, 22, 2, 109, 47, 6, 70, 18, 35, 84, 6, 5, 3, 28, 16, 36, 67, 1, 42, 36, 1, 40, 2, 81, 1, 175, 37, 25, 4, 4, 90, 1, 6, 10, 45, 59, 9, 1, 57, 32, 11, 12, 9, 68, 32, 70, 1, 3, 135, 90, 27, 34, 16, 5, 12, 1, 87, 5, 57, 4, 31, 72, 6, 1, 96, 89, 2, 161, 68, 20, 47, 63, 53, 5, 53, 19, 9, 120, 34, 1, 29, 7, 20, 103, 1, 1, 1, 49, 16, 59, 22, 2, 1, 1, 103, 60, 117, 28, 13, 2, 41, 36, 65, 87, 1, 3, 26, 3, 2, 0, 39, 33, 110, 39, 71, 10, 14, 1, 0, 2, 116, 67, 18, 10, 0, 133, 1, 14, 50, 1, 3, 4, 3, 54, 5, 55, 84, 61, 28, 8, 30, 102, 91, 19, 22, 26, 6, 1, 151, 55, 128, 7, 77, 70, 1, 81, 16, 89, 200, 6, 38, 17, 87, 1, 36, 21, 55, 74, 76, 12, 11, 115, 4, 102, 3, 55, 55, 65, 87, 10, 23, 28, 42, 2, 2, 68, 4, 73, 59, 55, 6, 78, 57, 3, 23, 40, 1, 68, 1, 42, 14, 25, 0, 149, 45, 14, 79, 8, 17, 6, 114, 17, 6, 30, 7, 3, 90, 18, 7, 4, 2, 42, 9, 16, 5, 3, 28, 135, 98, 55, 12, 2, 96, 65, 6, 21, 2, 33, 45, 35, 3, 103, 38, 67, 102, 93, 82, 20, 20, 1, 7, 29, 26, 69, 7, 30, 1, 35, 8, 12, 1, 14, 12, 0, 5, 1, 11, 161, 22, 16, 1, 55, 76, 0, 35, 3, 28, 73, 23, 13, 11, 90, 28, 56, 6, 1, 28, 3, 1, 53, 20, 49, 22, 70, 6, 1, 105, 3, 15, 12, 41, 5, 4, 9, 47, 13, 8, 9, 15, 2, 84, 1, 6, 61, 5, 1, 16, 15, 8, 2, 25, 19, 36, 159, 69, 25, 40, 24, 45, 56, 23, 20, 1, 74, 24, 46, 17, 6, 26, 18, 19, 152, 2, 6, 2, 206, 2, 0, 46, 13, 84, 193, 64, 5, 46, 1, 4, 70, 2, 26, 0, 38, 33, 23, 28, 134, 1, 18, 0, 14, 15, 1, 59, 106, 2, 1, 15, 32, 10, 47, 6, 8, 1, 38, 109, 8, 19, 88, 4, 12, 79, 76, 56, 53, 56, 3, 3, 11, 61, 153, 90, 26, 106, 20, 13, 1, 43, 70, 3, 0, 45, 31, 56, 15, 46, 2, 1, 7, 64, 2, 229, 4, 24, 23, 1, 50, 17, 11, 4, 14, 30, 47, 6, 11, 2, 54, 5, 34, 5, 44, 48, 78, 8, 43, 1, 66, 3, 31, 13, 60, 6, 7, 3, 15, 42, 74, 25, 3, 32, 89, 36, 79, 119, 10, 85, 5, 11, 2, 56, 21, 48, 1, 30, 17, 3, 17, 11, 102, 10, 1, 1, 8, 46, 55, 40, 11, 5, 24, 85, 41, 6, 161, 4, 1, 163, 22, 98, 7, 47, 8, 69, 1, 13, 76, 106, 14, 142, 50, 8, 15, 73, 84, 26, 7, 113, 6, 78, 33, 77, 147, 55, 45, 22, 101, 8, 20, 5, 43, 19, 4, 30, 51, 2, 75, 29, 43, 4, 32, 14, 37, 92, 72, 46, 71, 118, 41, 88, 10, 123, 17, 5, 5, 137, 32, 2, 66, 7, 78, 16, 55, 113, 0, 56, 1, 6, 1, 88, 81, 34, 10, 49, 58, 55, 57, 0, 77, 114, 112, 16, 18, 7, 7, 48, 1, 0, 43, 44, 86, 86, 0, 5, 93, 2, 3, 5, 23, 0, 0, 33, 114, 5, 71, 72, 26, 7, 4, 3, 44, 41, 8, 53, 3, 135, 69, 2, 15, 0, 97, 56, 84, 38, 109, 2, 52, 28, 0, 103, 25, 9, 5, 9, 39, 37, 66, 74, 20, 22, 12, 25, 5, 57, 45, 1, 18, 1, 20, 108, 4, 11, 3, 2, 68, 1, 15, 98, 6, 9, 12, 112, 2, 2, 5, 35, 68, 23, 1, 55, 24, 24, 77, 73, 9, 78, 2, 64, 123, 60, 18, 22, 44, 1, 0, 203, 5, 8, 47, 3, 24, 12, 58, 6, 64, 19, 63, 74, 211, 8, 6, 96, 49, 116, 7, 83, 3, 8, 92, 1, 35, 14, 8, 81, 1, 83, 63, 58, 75, 115, 8, 44, 17, 5, 56, 54, 54, 121, 20, 219, 11, 76, 1, 72, 10, 28, 19, 29, 74, 1, 2, 13, 92, 61, 20, 31, 13, 83, 2, 12, 7, 78, 2, 82, 19, 80, 44, 39, 5, 50, 18, 55, 37, 25, 16, 0, 13, 1, 60, 43, 15, 1, 11, 1, 51, 8, 106, 4, 19, 41, 16, 20, 21, 71, 16, 20, 5, 10, 2, 45, 19, 87, 1, 2, 3, 22, 8, 1, 21, 77, 11, 221, 13, 3, 31, 33, 2, 48, 6, 20, 18, 51, 11, 35, 65, 85, 5, 20, 7, 40, 1, 88, 79, 16, 103, 21, 8, 117, 25, 2, 6, 26, 8, 1, 13, 87, 38, 166, 209, 5, 56, 161, 1, 16, 23, 20, 55, 96, 78, 131, 3, 1, 56, 13, 76, 41, 131, 2, 40, 9, 5, 24, 42, 78, 91, 9, 90, 89, 28, 17, 81, 6, 1, 97, 43, 2, 26, 3, 23, 4, 12, 11, 5, 21, 54, 6, 2, 60, 0, 72, 139, 97, 64, 71, 110, 42, 73, 73, 153, 20, 5, 35, 4, 106, 109, 69, 29, 5, 20, 38, 21, 44, 39, 7, 1, 14, 13, 9, 20, 69, 3, 48, 0, 8, 5, 3, 77, 14, 50, 9, 144, 5, 1, 143, 90, 19, 2, 20, 133, 108, 7, 112, 138, 10, 29, 4, 54, 36, 5, 9, 5, 3, 16, 1, 93, 0, 3, 68, 14, 15, 108, 41, 43, 3, 56, 10, 34, 2, 11, 6, 7, 32, 49, 1, 46, 42, 10, 60, 1, 23, 5, 146, 43, 49, 8, 58, 1, 6, 22, 39, 58, 18, 38, 60, 26, 159, 8, 0, 17, 4, 32, 15, 40, 19, 12, 11, 2, 83, 36, 3, 5, 0, 94, 3, 77, 1, 17, 1, 12, 5, 80, 11, 34, 65, 54, 92, 31, 1, 59, 75, 31, 100, 29, 2, 1, 119, 2, 4, 88, 71, 115, 51, 9, 119, 20, 100, 52, 36, 80, 58, 10, 47, 23, 101, 51, 42, 88, 11, 4, 1, 91, 4, 8, 11, 35, 24, 14, 4, 14, 9, 25, 40, 41, 150, 6, 26, 11, 126, 22, 1, 25, 9, 30, 56, 115, 23, 1, 28, 52, 35, 35, 20, 100, 87, 3, 14, 2, 63, 130, 1, 14, 2, 25, 28, 39, 15, 0, 83, 14, 129, 98, 109, 41, 82, 16, 272, 0, 131, 24, 33, 1, 35, 95, 42, 25, 95, 82, 99, 26, 100, 68, 15, 5, 84, 144, 14, 37, 18, 14, 76, 91, 24, 1, 32, 16, 107, 2, 155, 22, 12, 111, 62, 4, 16, 39, 11, 11, 2, 109, 99, 3, 40, 45, 3, 26, 1, 3, 50, 11, 4, 18, 41, 128, 131, 3, 143, 0, 18, 1, 13, 23, 160, 12, 18, 18, 11, 5, 6, 39, 4, 65, 97, 0, 65, 113, 104, 6, 20, 1, 12, 1, 97, 5, 4, 122, 2, 2, 54, 115, 72, 0, 52, 40, 15, 172, 66, 72, 99, 15, 35, 1, 22, 34, 10, 2, 4, 1, 2, 2, 54, 7, 4, 12, 10, 41, 2, 45, 8, 29, 16, 30, 40, 29, 1, 7, 5, 120, 2, 63, 49, 16, 20, 36, 17, 58, 55, 2, 11, 35, 34, 3, 60, 19, 28, 75, 22, 88, 0, 3, 129, 2, 12, 56, 3, 2, 21, 2, 13, 62, 0, 14, 0, 87, 73, 40, 88, 10, 29, 13, 65, 12, 97, 14, 0, 19, 0, 18, 9, 38, 1, 18, 26, 118, 1, 2, 6, 109, 10, 8, 142, 12, 144, 0, 8, 22, 10, 106, 45, 12, 60, 20, 11, 4, 48, 54, 27, 11, 74, 71, 23, 95, 2, 65, 0, 5, 75, 10, 56, 91, 34, 14, 7, 42, 90, 43, 27, 1, 55, 2, 1, 2, 22, 88, 6, 3, 66, 10, 1, 3, 0, 67, 5, 14, 109, 38, 21, 23, 11, 5, 4, 76, 25, 36, 5, 29, 64, 131, 67, 0, 62, 33, 7, 34, 39, 105, 29, 10, 3, 17, 8, 9, 4, 16, 3, 2, 18, 5, 34, 1, 2, 34, 18, 62, 4, 70, 10, 5, 1, 50, 40, 9, 9, 80, 53, 50, 41, 80, 24, 9, 126, 15, 71, 17, 43, 24, 6, 95, 51, 21, 98, 3, 12, 71, 13, 18, 16, 90, 18, 41, 31, 79, 3, 2, 60, 66, 22, 4, 5, 14, 32, 38, 1, 7, 194, 1, 11, 13, 13, 9, 3, 18, 32, 56, 7, 71, 81, 24, 1, 2, 83, 100, 2, 8, 6, 96, 1, 7, 50, 89, 19, 10, 11, 1, 98, 38, 30, 71, 67, 4, 93, 2, 1, 46, 63, 3, 4, 5, 28, 20, 8, 3, 5, 12, 131, 10, 53, 135, 5, 9, 15, 89, 39, 112, 1, 3, 121, 90, 6, 5, 52, 73, 8, 46, 23, 60, 36, 11, 11, 1, 6, 140, 4, 1, 66, 32, 166, 3, 45, 12, 126, 53, 12, 19, 2, 23, 68, 4, 5, 13, 16, 63, 95, 80, 53, 56, 1, 112, 64, 3, 93, 10, 63, 6, 0, 1, 72, 38, 99, 96, 22, 87, 5, 133, 30, 1, 74, 3, 9, 14, 106, 15, 65, 8, 86, 2, 127, 117, 17, 3, 19, 40, 17, 77, 49, 16, 81, 54, 8, 14, 8, 10, 12, 4, 87, 4, 16, 44, 53, 8, 88, 2, 4, 21, 113, 1, 35, 72, 40, 4, 1, 13, 11, 140, 69, 18, 80, 79, 1, 1, 24, 158, 72, 42, 51, 68, 1, 27, 0, 1, 2, 62, 65, 74, 18, 30, 44, 227, 29, 1, 74, 13, 11, 90, 32, 49, 0, 3, 10, 38, 31, 121, 4, 3, 0, 2, 53, 3, 49, 62, 103, 75, 22, 28, 0, 15, 57, 36, 5, 35, 3, 1, 51, 83, 23, 2, 3, 101, 70, 0, 2, 8, 13, 51, 3, 13, 12, 6, 4, 38, 55, 34, 75, 42, 98, 1, 51, 23, 3, 3, 5, 95, 4, 92, 10, 1, 0, 42, 1, 82, 99, 2, 57, 2, 55, 85, 16, 77, 0, 50, 11, 51, 3, 53, 3, 14, 29, 1, 78, 81, 46, 35, 5, 20, 42, 129, 76, 16, 12, 19, 35, 3, 7, 62, 31, 57, 94, 70, 236, 6, 1, 87, 8, 71, 139, 5, 3, 16, 19, 67, 18, 1, 13, 34, 17, 48, 61, 77, 134, 9, 27, 8, 5, 5, 43, 32, 10, 20, 53, 32, 54, 4, 36, 89, 98, 39, 41, 27, 44, 55, 6, 121, 70, 45, 14, 56, 69, 1, 19, 34, 2, 11, 14, 1, 79, 2, 69, 16, 15, 134, 64, 0, 83, 59, 68, 1, 23, 6, 2, 6, 31, 23, 114, 17, 16, 27, 10, 72, 6, 123, 1, 51, 124, 103, 98, 90, 31, 3, 20, 89, 16, 34, 5, 20, 0, 5, 1, 4, 132, 0, 61, 38, 63, 73, 21, 23, 11, 110, 6, 8, 2, 64, 26, 57, 64, 2, 115, 15, 20, 13, 7, 19, 34, 4, 56, 164, 30, 21, 61, 58, 78, 7, 4, 3, 14, 122, 10, 6, 133, 16, 10, 17, 43, 1, 15, 28, 72, 82, 99, 17, 119, 115, 164, 74, 75, 20, 35, 40, 27, 5, 12, 1, 1, 121, 40, 32, 2, 15, 12, 29, 4, 1, 29, 33, 26, 1, 13, 11, 47, 65, 83, 167, 13, 82, 95, 153, 108, 20, 56, 62, 10, 1, 8, 148, 1, 84, 13, 45, 43, 33, 67, 51, 46, 61, 2, 28, 49, 84, 57, 14, 5, 65, 105, 9, 98, 24, 19, 12, 56, 11, 86, 55, 33, 2, 9, 86, 146, 71, 8, 71, 25, 6, 5, 0, 10, 64, 17, 156, 17, 0, 38, 1, 40, 72, 4, 53, 11, 6, 67, 20, 84, 0, 83, 32, 20, 2, 150, 93, 51, 7, 55, 79, 129, 3, 5, 4, 45, 8, 109, 88, 95, 125, 0, 90, 29, 7, 101, 225, 43, 5, 17, 2, 13, 8, 8, 30, 55, 78, 5, 1, 128, 81, 26, 99, 2, 0, 4, 67, 59, 76, 25, 9, 33, 0, 2, 20, 53, 165, 8, 7, 99, 0, 142, 94, 18, 1, 29, 29, 65, 48, 18, 50, 186, 47, 0, 47, 1, 6, 7, 73, 7, 51, 86, 15, 71, 24, 11, 75, 3, 4, 19, 21, 18, 74, 0, 49, 6, 51, 40, 2, 111, 109, 3, 21, 15, 15, 0, 19, 87, 5, 3, 49, 131, 1, 17, 28, 39, 8, 2, 7, 1, 38, 161, 19, 27, 76, 17, 60, 26, 4, 40, 2, 59, 4, 63, 4, 108, 112, 10, 5, 43, 13, 53, 1, 3, 97, 54, 1, 18, 4, 26, 105, 104, 77, 1, 9, 54, 11, 5, 0, 47, 41, 55, 36, 4, 56, 127, 27, 15, 74, 44, 12, 139, 71, 94, 50, 4, 32, 0, 18, 64, 72, 5, 44, 73, 2, 14, 23, 30, 30, 82, 23, 72, 1, 25, 38, 41, 21, 20, 52, 88, 3, 58, 37, 45, 95, 25, 101, 1, 6, 34, 113, 13, 4, 2, 4, 3, 35, 45, 2, 33, 12, 2, 29, 85, 44, 2, 93, 9, 8, 45, 5, 128, 2, 92, 146, 34, 5, 49, 2, 39, 5, 93, 21, 5, 46, 65, 18, 120, 47, 22, 21, 9, 27, 35, 12, 86, 8, 3, 61, 96, 52, 82, 105, 4, 35, 17, 4, 4, 5, 8, 0, 2, 20, 166, 21, 3, 91, 27, 34, 74, 139, 73, 17, 32, 79, 18, 0, 5, 8, 87, 8, 1, 114, 32, 114, 58, 9, 72, 39, 9, 63, 0, 83, 4, 72, 38, 68, 1, 20, 5, 78, 6, 98, 1, 6, 32, 12, 49, 76, 27, 2, 12, 0, 73, 173, 59, 119, 13, 69, 190, 7, 30, 2, 71, 56, 14, 24, 19, 23, 32, 2, 98, 3, 56, 3, 49, 27, 62, 67, 2, 52, 95, 71, 12, 50, 0, 2, 15, 2, 90, 34, 6, 7, 134, 16, 11, 60, 9, 2, 18, 11, 7, 3, 31, 29, 1, 107, 10, 2, 10, 82, 60, 4, 8, 18, 21, 6, 46, 2, 46, 71, 23, 0, 11, 92, 105, 1, 63, 11, 79, 10, 34, 32, 2, 56, 112, 98, 6, 11, 47, 1, 84, 2, 13, 3, 20, 2, 60, 3, 3, 125, 15, 93, 165, 51, 41, 1, 24, 27, 23, 5, 1, 2, 72, 1, 0, 77, 77, 2, 9, 26, 1, 7, 28, 87, 71, 0, 3, 4, 6, 38, 3, 46, 16, 35, 14, 53, 50, 2, 9, 3, 77, 37, 29, 37, 58, 15, 1, 40, 1, 46, 14, 10, 6, 24, 50, 59, 2, 7, 0, 4, 3, 15, 3, 91, 0, 49, 39, 3, 21, 10, 45, 21, 11, 1, 71, 26, 26, 4, 1, 19, 0, 4, 41, 20, 62, 90, 52, 7, 21, 101, 8, 1, 39, 32, 5, 79, 62, 80, 92, 6, 15, 20, 111, 20, 37, 27, 48, 5, 8, 12, 110, 0, 6, 22, 80, 43, 44, 3, 34, 24, 5, 3, 29, 60, 52, 13, 69, 43, 11, 37, 109, 46, 112, 39, 11, 54, 0, 33, 42, 67, 26, 70, 116, 34, 74, 55, 13, 100, 8, 3, 50, 13, 24, 90, 32, 24, 1, 29, 0, 61, 7, 4, 4, 0, 20, 0, 2, 231, 89, 22, 48, 43, 52, 74, 2, 3, 5, 3, 38, 21, 61, 51, 14, 57, 10, 25, 36, 19, 12, 9, 0, 29, 6, 1, 8, 23, 3, 166, 2, 54, 3, 8, 4, 34, 10, 155, 60, 5, 4, 11, 63, 6, 10, 4, 40, 38, 20, 99, 2, 30, 59, 101, 5, 1, 90, 12, 5, 1, 0, 1, 1, 0, 2, 11, 13, 14, 21, 15, 5, 121, 77, 4, 2, 65, 34, 50, 15, 20, 22, 1, 4, 6, 72, 48, 20, 34, 80, 71, 4, 127, 40, 62, 120, 57, 19, 25, 12, 35, 44, 40, 10, 28, 143, 11, 78, 34, 2, 4, 23, 6, 41, 41, 12, 1, 22, 37, 21, 20, 83, 87, 23, 20, 11, 6, 33, 19, 82, 127, 4, 66, 55, 15, 23, 46, 31, 26, 29, 107, 94, 1, 37, 59, 86, 56, 87, 6, 1, 2, 11, 53, 11, 47, 34, 51, 31, 15, 2, 171, 72, 13, 1, 73, 10, 161, 59, 142, 105, 42, 101, 11, 9, 90, 101, 17, 28, 92, 29, 27, 3, 8, 1, 27, 3, 13, 3, 36, 89, 47, 123, 27, 9, 5, 49, 17, 63, 111, 48, 5, 8, 114, 106, 24, 90, 11, 18, 58, 2, 49, 27, 9, 108, 4, 101, 0, 76, 22, 7, 17, 8, 0, 28, 1, 4, 8, 117, 68, 0, 3, 1, 4, 6, 63, 0, 7, 26, 93, 19, 111, 32, 54, 2, 91, 45, 4, 95, 13, 0, 52, 3, 0, 3, 98, 4, 73, 25, 1, 59, 16, 2, 37, 52, 40, 2, 19, 3, 31, 25, 58, 23, 52, 0, 80, 77, 3, 45, 17, 1, 61, 5, 23, 8, 67, 30, 37, 30, 68, 3, 27, 23, 7, 29, 33, 40, 3, 10, 0, 12, 3, 4, 28, 113, 11, 62, 24, 72, 52, 116, 41, 23, 150, 12, 22, 179, 43, 31, 131, 20, 6, 1, 12, 59, 56, 80, 9, 51, 1, 37, 11, 42, 21, 7, 2, 74, 59, 13, 66, 7, 117, 3, 4, 2, 34, 77, 66, 16, 48, 28, 31, 72, 0, 0, 18, 15, 2, 11, 28, 62, 179, 65, 0, 12, 65, 71, 16, 62, 3, 2, 33, 5, 3, 39, 4, 60, 6, 37, 6, 81, 14, 83, 30, 25, 2, 2, 88, 52, 69, 110, 1, 2, 33, 18, 4, 106, 70, 19, 3, 41, 3, 6, 3, 155, 36, 18, 31, 78, 28, 18, 45, 34, 53, 46, 66, 6, 1, 29, 5, 19, 3, 33, 3, 95, 14, 1, 209, 88, 80, 62, 113, 126, 13, 37, 34, 17, 51, 40, 88, 39, 17, 55, 9, 19, 1, 14, 14, 0, 50, 71, 53, 38, 15, 18, 9, 49, 7, 46, 32, 76, 8, 15, 4, 23, 52, 36, 7, 176, 26, 41, 0, 1, 10, 3, 107, 34, 12, 65, 88, 1, 67, 20, 66, 99, 39, 5, 125, 5, 31, 19, 22, 4, 15, 19, 85, 125, 6, 76, 74, 2, 3, 83, 24, 8, 41, 93, 8, 25, 1, 75, 12, 72, 70, 21, 44, 32, 71, 10, 5, 7, 72, 48, 2, 6, 129, 93, 101, 12, 12, 12, 103, 59, 12, 6, 17, 16, 1, 4, 0, 28, 95, 130, 65, 86, 36, 1, 74, 25, 4, 2, 90, 52, 20, 19, 10, 7, 22, 60, 11, 2, 185, 1, 4, 86, 51, 2, 74, 18, 78, 2, 9, 21, 0, 87, 1, 1, 66, 26, 27, 14, 2, 4, 57, 19, 52, 31, 84, 49, 37, 26, 73, 71, 4, 47, 33, 184, 14, 7, 1, 12, 154, 73, 24, 41, 6, 38, 95, 8, 50, 70, 51, 2, 30, 47, 15, 89, 2, 17, 7, 12, 27, 2, 49, 68, 2, 50, 20, 4, 9, 3, 16, 65, 1, 62, 2, 27, 29, 22, 13, 6, 16, 31, 75, 27, 28, 28, 2, 16, 41, 10, 24, 1, 0, 50, 100, 1, 4, 17, 29, 123, 31, 4, 15, 4, 59, 71, 19, 31, 0, 47, 2, 8, 87, 4, 150, 74, 133, 8, 4, 77, 6, 23, 1, 111, 110, 114, 16, 103, 10, 22, 1, 134, 130, 23, 47, 16, 98, 59, 76, 78, 59, 14, 3, 40, 4, 18, 14, 1, 13, 22, 29, 5, 74, 11, 94, 15, 16, 34, 15, 52, 4, 28, 3, 3, 35, 31, 3, 53, 6, 88, 2, 38, 23, 25, 69, 67, 114, 1, 27, 19, 14, 77, 31, 1, 22, 124, 10, 78, 53, 18, 6, 126, 7, 27, 81, 69, 3, 77, 2, 51, 1, 12, 0, 40, 48, 50, 8, 21, 41, 12, 40, 83, 5, 10, 51, 128, 88, 162, 45, 2, 47, 2, 33, 9, 0, 27, 1, 37, 1, 16, 91, 10, 6, 64, 7, 20, 7, 5, 39, 84, 7, 3, 54, 26, 2, 84, 1, 18, 47, 16, 23, 9, 1, 0, 63, 6, 1, 32, 8, 46, 24, 25, 141, 64, 78, 37, 45, 69, 5, 4, 25, 8, 57, 33, 48, 6, 27, 1, 1, 37, 5, 17, 64, 16, 2, 11, 49, 8, 113, 41, 21, 41, 1, 40, 0, 4, 35, 127, 7, 31, 14, 6, 10, 32, 1, 16, 116, 51, 40, 1, 34, 3, 76, 140, 3, 28, 101, 0, 24, 10, 39, 29, 35, 16, 41, 10, 7, 5, 45, 40, 79, 7, 1, 106, 104, 69, 19, 16, 16, 3, 5, 2, 17, 0, 15, 10, 18, 48, 5, 23, 40, 0, 49, 2, 45, 102, 1, 6, 47, 30, 5, 10, 5, 5, 31, 68, 59, 37, 4, 46, 14, 42, 36, 101, 169, 71, 28, 50, 19, 0, 17, 66, 2, 9, 102, 5, 58, 37, 2, 4, 65, 82, 1, 6, 16, 34, 53, 2, 4, 11, 24, 45, 6, 4, 27, 5, 2, 20, 108, 0, 26, 14, 26, 16, 54, 68, 1, 4, 49, 3, 2, 33, 13, 4, 3, 1, 1, 46, 3, 16, 26, 56, 20, 150, 45, 58, 42, 2, 28, 68, 80, 46, 6, 3, 54, 2, 5, 9, 4, 87, 65, 18, 58, 24, 18, 18, 54, 5, 56, 1, 1, 1, 47, 41, 67, 43, 2, 0, 20, 83, 99, 12, 19, 8, 29, 1, 9, 12, 143, 40, 107, 17, 105, 65, 3, 0, 52, 19, 5, 26, 2, 60, 4, 15, 26, 37, 62, 3, 47, 1, 57, 23, 38, 43, 0, 17, 157, 44, 64, 0, 30, 4, 151, 126, 57, 29, 9, 28, 81, 24, 60, 1, 10, 5, 113, 58, 78, 31, 13, 36, 2, 73, 3, 5, 124, 61, 13, 6, 33, 2, 102, 150, 25, 51, 21, 6, 24, 46, 55, 56, 85, 4, 2, 61, 12, 13, 13, 31, 7, 47, 1, 68, 40, 3, 70, 68, 121, 10, 59, 3, 145, 68, 106, 99, 2, 1, 24, 23, 156, 44, 59, 0, 66, 131, 22, 1, 39, 1, 12, 51, 0, 60, 79, 128, 4, 28, 6, 16, 11, 32, 18, 67, 53, 87, 43, 40, 7, 3, 46, 3, 3, 1, 114, 5, 10, 38, 106, 79, 2, 3, 59, 54, 38, 28, 27, 36, 0, 6, 6, 95, 4, 84, 29, 56, 0, 7, 15, 2, 2, 15, 73, 46, 14, 15, 18, 1, 3, 14, 6, 68, 4, 2, 6, 9, 7, 5, 79, 6, 9, 2, 56, 159, 0, 21, 159, 39, 67, 8, 27, 10, 2, 13, 15, 5, 2, 54, 1, 77, 2, 86, 49, 1, 6, 21, 43, 80, 0, 18, 3, 28, 57, 108, 13, 16, 27, 87, 15, 30, 89, 87, 5, 2, 162, 7, 2, 94, 12, 30, 6, 42, 52, 54, 19, 74, 8, 3, 16, 2, 101, 115, 77, 4, 2, 57, 69, 159, 8, 15, 29, 88, 65, 4, 93, 1, 94, 20, 21, 39, 43, 20, 21, 92, 6, 136, 0, 55, 16, 38, 10, 2, 36, 66, 2, 58, 19, 188, 1, 55, 79, 12, 7, 15, 7, 137, 0, 4, 96, 76, 4, 1, 61, 25, 5, 11, 15, 44, 76, 18, 26, 5, 1, 77, 26, 186, 5, 46, 25, 3, 28, 24, 9, 13, 72, 0, 53, 73, 144, 19, 59, 4, 18, 137, 47, 1, 8, 25, 71, 2, 60, 39, 98, 32, 7, 26, 0, 10, 5, 2, 49, 35, 2, 31, 14, 35, 1, 1, 153, 58, 1, 106, 18, 65, 26, 11, 62, 67, 85, 72, 38, 37, 4, 9, 24, 19, 186, 67, 3, 66, 3, 21, 3, 19, 10, 90, 101, 105, 56, 72, 8, 23, 2, 33, 6, 21, 23, 18, 25, 26, 3, 23, 132, 32, 51, 100, 20, 73, 105, 56, 7, 75, 2, 0, 12, 84, 252, 0, 157, 43, 110, 30, 12, 5, 8, 91, 12, 51, 122, 7, 76, 0, 92, 39, 74, 14, 18, 28, 36, 6, 6, 1, 99, 112, 21, 12, 46, 1, 91, 4, 11, 5, 1, 101, 85, 73, 96, 15, 3, 15, 12, 49, 21, 9, 19, 88, 42, 80, 66, 30, 234, 12, 68, 9, 44, 37, 47, 2, 1, 6, 51, 31, 1, 3, 22, 26, 93, 24, 85, 117, 183, 14, 24, 9, 8, 128, 8, 1, 41, 39, 1, 56, 90, 52, 33, 17, 2, 57, 5, 27, 19, 98, 22, 10, 61, 46, 1, 118, 14, 83, 19, 37, 12, 8, 6, 1, 52, 4, 48, 29, 127, 14, 17, 8, 41, 32, 31, 86, 11, 37, 4, 7, 34, 25, 1, 60, 7, 2, 106, 36, 8, 39, 45, 17, 28, 37, 1, 7, 10, 32, 15, 117, 20, 1, 50, 9, 62, 25, 7, 35, 17, 61, 49, 0, 1, 3, 11, 93, 6, 0, 54, 36, 7, 1, 6, 64, 37, 73, 6, 50, 31, 3, 41, 129, 6, 55, 3, 98, 98, 2, 8, 101, 73, 2, 96, 36, 39, 32, 5, 27, 76, 2, 15, 25, 2, 1, 2, 31, 16, 3, 22, 23, 22, 1, 54, 5, 121, 74, 5, 17, 91, 5, 61, 60, 3, 42]\n"
     ]
    }
   ],
   "source": [
    "longest_no_usage_list = []\n",
    "\n",
    "for usr in df['user'].unique():\n",
    "    \n",
    "    df_usr = df.loc[df['user']==usr]\n",
    "    ts = pd.Series(df_usr['usage'])\n",
    "    ts2 = 1-ts\n",
    "    tsgroup = ts.cumsum()\n",
    "    consec_0 = ts2.groupby(tsgroup).transform(pd.Series.cumsum)\n",
    "    # print(consec_0.max())\n",
    "    longest_no_usage_usr = consec_0.max()\n",
    "    longest_no_usage_list.append(longest_no_usage_usr)\n",
    "   \n",
    "\n",
    "print(longest_no_usage_list)"
   ]
  },
  {
   "cell_type": "code",
   "execution_count": 61,
   "metadata": {},
   "outputs": [
    {
     "data": {
      "text/html": [
       "<div>\n",
       "<style>\n",
       "    .dataframe thead tr:only-child th {\n",
       "        text-align: right;\n",
       "    }\n",
       "\n",
       "    .dataframe thead th {\n",
       "        text-align: left;\n",
       "    }\n",
       "\n",
       "    .dataframe tbody tr th {\n",
       "        vertical-align: top;\n",
       "    }\n",
       "</style>\n",
       "<table border=\"1\" class=\"dataframe\">\n",
       "  <thead>\n",
       "    <tr style=\"text-align: right;\">\n",
       "      <th></th>\n",
       "      <th>uniq_usr</th>\n",
       "      <th>longest_no_usage</th>\n",
       "    </tr>\n",
       "  </thead>\n",
       "  <tbody>\n",
       "  </tbody>\n",
       "</table>\n",
       "</div>"
      ],
      "text/plain": [
       "Empty DataFrame\n",
       "Columns: [uniq_usr, longest_no_usage]\n",
       "Index: []"
      ]
     },
     "execution_count": 61,
     "metadata": {},
     "output_type": "execute_result"
    }
   ],
   "source": [
    "df_unq_lou = pd.DataFrame(columns=['uniq_usr','longest_no_usage'])\n",
    "df_unq_lou"
   ]
  },
  {
   "cell_type": "code",
   "execution_count": 62,
   "metadata": {
    "collapsed": true,
    "scrolled": true
   },
   "outputs": [],
   "source": [
    "df_unq_lou['longest_no_usage']=longest_no_usage_list\n"
   ]
  },
  {
   "cell_type": "code",
   "execution_count": 63,
   "metadata": {
    "collapsed": true
   },
   "outputs": [],
   "source": [
    "df_unq_lou['uniq_usr']=df['user'].unique()"
   ]
  },
  {
   "cell_type": "code",
   "execution_count": 64,
   "metadata": {
    "scrolled": false
   },
   "outputs": [
    {
     "data": {
      "text/html": [
       "<div>\n",
       "<style>\n",
       "    .dataframe thead tr:only-child th {\n",
       "        text-align: right;\n",
       "    }\n",
       "\n",
       "    .dataframe thead th {\n",
       "        text-align: left;\n",
       "    }\n",
       "\n",
       "    .dataframe tbody tr th {\n",
       "        vertical-align: top;\n",
       "    }\n",
       "</style>\n",
       "<table border=\"1\" class=\"dataframe\">\n",
       "  <thead>\n",
       "    <tr style=\"text-align: right;\">\n",
       "      <th></th>\n",
       "      <th>uniq_usr</th>\n",
       "      <th>longest_no_usage</th>\n",
       "    </tr>\n",
       "  </thead>\n",
       "  <tbody>\n",
       "    <tr>\n",
       "      <th>0</th>\n",
       "      <td>00097b5304ac028d14ec093cba2c41f76126fab4</td>\n",
       "      <td>59</td>\n",
       "    </tr>\n",
       "    <tr>\n",
       "      <th>1</th>\n",
       "      <td>002b862b2604247ecfe7c9dc9d5fa41811a93d3e</td>\n",
       "      <td>11</td>\n",
       "    </tr>\n",
       "    <tr>\n",
       "      <th>2</th>\n",
       "      <td>0036892c09cc30ab1dec9999eb43189af4dd71b4</td>\n",
       "      <td>1</td>\n",
       "    </tr>\n",
       "    <tr>\n",
       "      <th>3</th>\n",
       "      <td>0040b11703e9dd8d7c8e5b8b46f64d20b642eb71</td>\n",
       "      <td>101</td>\n",
       "    </tr>\n",
       "    <tr>\n",
       "      <th>4</th>\n",
       "      <td>0048bc445cdbff2bba4963af21e881c8645a6cdb</td>\n",
       "      <td>3</td>\n",
       "    </tr>\n",
       "  </tbody>\n",
       "</table>\n",
       "</div>"
      ],
      "text/plain": [
       "                                   uniq_usr  longest_no_usage\n",
       "0  00097b5304ac028d14ec093cba2c41f76126fab4                59\n",
       "1  002b862b2604247ecfe7c9dc9d5fa41811a93d3e                11\n",
       "2  0036892c09cc30ab1dec9999eb43189af4dd71b4                 1\n",
       "3  0040b11703e9dd8d7c8e5b8b46f64d20b642eb71               101\n",
       "4  0048bc445cdbff2bba4963af21e881c8645a6cdb                 3"
      ]
     },
     "execution_count": 64,
     "metadata": {},
     "output_type": "execute_result"
    }
   ],
   "source": [
    "df_unq_lou.head()"
   ]
  },
  {
   "cell_type": "markdown",
   "metadata": {},
   "source": [
    "### Overall Statistics"
   ]
  },
  {
   "cell_type": "code",
   "execution_count": 65,
   "metadata": {
    "scrolled": false
   },
   "outputs": [
    {
     "data": {
      "text/html": [
       "<div>\n",
       "<style>\n",
       "    .dataframe thead tr:only-child th {\n",
       "        text-align: right;\n",
       "    }\n",
       "\n",
       "    .dataframe thead th {\n",
       "        text-align: left;\n",
       "    }\n",
       "\n",
       "    .dataframe tbody tr th {\n",
       "        vertical-align: top;\n",
       "    }\n",
       "</style>\n",
       "<table border=\"1\" class=\"dataframe\">\n",
       "  <thead>\n",
       "    <tr style=\"text-align: right;\">\n",
       "      <th></th>\n",
       "      <th>longest_no_usage</th>\n",
       "    </tr>\n",
       "  </thead>\n",
       "  <tbody>\n",
       "    <tr>\n",
       "      <th>count</th>\n",
       "      <td>5149.000000</td>\n",
       "    </tr>\n",
       "    <tr>\n",
       "      <th>mean</th>\n",
       "      <td>37.675277</td>\n",
       "    </tr>\n",
       "    <tr>\n",
       "      <th>std</th>\n",
       "      <td>40.054123</td>\n",
       "    </tr>\n",
       "    <tr>\n",
       "      <th>min</th>\n",
       "      <td>0.000000</td>\n",
       "    </tr>\n",
       "    <tr>\n",
       "      <th>25%</th>\n",
       "      <td>6.000000</td>\n",
       "    </tr>\n",
       "    <tr>\n",
       "      <th>50%</th>\n",
       "      <td>23.000000</td>\n",
       "    </tr>\n",
       "    <tr>\n",
       "      <th>75%</th>\n",
       "      <td>59.000000</td>\n",
       "    </tr>\n",
       "    <tr>\n",
       "      <th>max</th>\n",
       "      <td>272.000000</td>\n",
       "    </tr>\n",
       "  </tbody>\n",
       "</table>\n",
       "</div>"
      ],
      "text/plain": [
       "       longest_no_usage\n",
       "count       5149.000000\n",
       "mean          37.675277\n",
       "std           40.054123\n",
       "min            0.000000\n",
       "25%            6.000000\n",
       "50%           23.000000\n",
       "75%           59.000000\n",
       "max          272.000000"
      ]
     },
     "execution_count": 65,
     "metadata": {},
     "output_type": "execute_result"
    }
   ],
   "source": [
    "df_unq_lou.describe()"
   ]
  },
  {
   "cell_type": "markdown",
   "metadata": {},
   "source": [
    "## Summary plot of longest run no usage"
   ]
  },
  {
   "cell_type": "code",
   "execution_count": 72,
   "metadata": {
    "scrolled": false
   },
   "outputs": [
    {
     "data": {
      "text/plain": [
       "<matplotlib.collections.PathCollection at 0x7f54e02d2710>"
      ]
     },
     "execution_count": 72,
     "metadata": {},
     "output_type": "execute_result"
    },
    {
     "data": {
      "image/png": "[encoded data removed]",
      "text/plain": [
       "<matplotlib.figure.Figure at 0x7f54e0664860>"
      ]
     },
     "metadata": {},
     "output_type": "display_data"
    }
   ],
   "source": [
    "plt.scatter(df_unq_lou.index, df_unq_lou['longest_no_usage'])"
   ]
  },
  {
   "cell_type": "markdown",
   "metadata": {},
   "source": [
    "# Derive 3 features based on the first 30 days of usage for each user"
   ]
  },
  {
   "cell_type": "code",
   "execution_count": 4,
   "metadata": {},
   "outputs": [
    {
     "data": {
      "text/plain": [
       "144836"
      ]
     },
     "execution_count": 4,
     "metadata": {},
     "output_type": "execute_result"
    }
   ],
   "source": [
    "df_30=df.groupby('user').head(30)# group by to get first 30 days of each user\n",
    "len(df_30)"
   ]
  },
  {
   "cell_type": "markdown",
   "metadata": {
    "collapsed": true,
    "scrolled": false
   },
   "source": [
    "## 1. Compute total usage days for each user"
   ]
  },
  {
   "cell_type": "code",
   "execution_count": 5,
   "metadata": {
    "scrolled": true
   },
   "outputs": [
    {
     "data": {
      "text/html": [
       "<div>\n",
       "<style>\n",
       "    .dataframe thead tr:only-child th {\n",
       "        text-align: right;\n",
       "    }\n",
       "\n",
       "    .dataframe thead th {\n",
       "        text-align: left;\n",
       "    }\n",
       "\n",
       "    .dataframe tbody tr th {\n",
       "        vertical-align: top;\n",
       "    }\n",
       "</style>\n",
       "<table border=\"1\" class=\"dataframe\">\n",
       "  <thead>\n",
       "    <tr style=\"text-align: right;\">\n",
       "      <th></th>\n",
       "      <th>usage</th>\n",
       "    </tr>\n",
       "    <tr>\n",
       "      <th>user</th>\n",
       "      <th></th>\n",
       "    </tr>\n",
       "  </thead>\n",
       "  <tbody>\n",
       "    <tr>\n",
       "      <th>00097b5304ac028d14ec093cba2c41f76126fab4</th>\n",
       "      <td>0</td>\n",
       "    </tr>\n",
       "    <tr>\n",
       "      <th>002b862b2604247ecfe7c9dc9d5fa41811a93d3e</th>\n",
       "      <td>14</td>\n",
       "    </tr>\n",
       "    <tr>\n",
       "      <th>0036892c09cc30ab1dec9999eb43189af4dd71b4</th>\n",
       "      <td>29</td>\n",
       "    </tr>\n",
       "    <tr>\n",
       "      <th>0040b11703e9dd8d7c8e5b8b46f64d20b642eb71</th>\n",
       "      <td>0</td>\n",
       "    </tr>\n",
       "    <tr>\n",
       "      <th>0048bc445cdbff2bba4963af21e881c8645a6cdb</th>\n",
       "      <td>22</td>\n",
       "    </tr>\n",
       "    <tr>\n",
       "      <th>004ac21e94c7a42e6c93835062602402056f2443</th>\n",
       "      <td>20</td>\n",
       "    </tr>\n",
       "    <tr>\n",
       "      <th>00510bfdb09f06057ffebc04b259a673dc38cb8b</th>\n",
       "      <td>29</td>\n",
       "    </tr>\n",
       "    <tr>\n",
       "      <th>00548c658c50f6254b0ab132ef22424579a0b0d0</th>\n",
       "      <td>27</td>\n",
       "    </tr>\n",
       "    <tr>\n",
       "      <th>0074824c7bc3ebea47f098c670947fe1422d5ad0</th>\n",
       "      <td>2</td>\n",
       "    </tr>\n",
       "    <tr>\n",
       "      <th>008092a153c4933e5dfba5aabee2ea97c13a9620</th>\n",
       "      <td>0</td>\n",
       "    </tr>\n",
       "  </tbody>\n",
       "</table>\n",
       "</div>"
      ],
      "text/plain": [
       "                                          usage\n",
       "user                                           \n",
       "00097b5304ac028d14ec093cba2c41f76126fab4      0\n",
       "002b862b2604247ecfe7c9dc9d5fa41811a93d3e     14\n",
       "0036892c09cc30ab1dec9999eb43189af4dd71b4     29\n",
       "0040b11703e9dd8d7c8e5b8b46f64d20b642eb71      0\n",
       "0048bc445cdbff2bba4963af21e881c8645a6cdb     22\n",
       "004ac21e94c7a42e6c93835062602402056f2443     20\n",
       "00510bfdb09f06057ffebc04b259a673dc38cb8b     29\n",
       "00548c658c50f6254b0ab132ef22424579a0b0d0     27\n",
       "0074824c7bc3ebea47f098c670947fe1422d5ad0      2\n",
       "008092a153c4933e5dfba5aabee2ea97c13a9620      0"
      ]
     },
     "execution_count": 5,
     "metadata": {},
     "output_type": "execute_result"
    }
   ],
   "source": [
    "days_used=df_30.groupby('user')['usage'].sum()\n",
    "days_used=pd.DataFrame(days_used)\n",
    "days_used.head(10)"
   ]
  },
  {
   "cell_type": "markdown",
   "metadata": {},
   "source": [
    "## 2. Compute longest no usage days for each user within first 30 days"
   ]
  },
  {
   "cell_type": "code",
   "execution_count": 12,
   "metadata": {
    "collapsed": true
   },
   "outputs": [],
   "source": [
    "longest_no_usage_list_30 = []\n",
    "\n",
    "for usr in df_30['user'].unique():\n",
    "    \n",
    "    df_30_usr = df_30.loc[df_30['user']==usr]\n",
    "    ts_30 = pd.Series(df_30_usr['usage'])\n",
    "    ts2_30 = 1-ts_30\n",
    "    tsgroup_30 = ts_30.cumsum()\n",
    "    consec_0_30 = ts2_30.groupby(tsgroup_30).transform(pd.Series.cumsum)\n",
    "    # print(consec_0.max())\n",
    "    longest_no_usage_usr_30 = consec_0_30.max()\n",
    "    longest_no_usage_list_30.append(longest_no_usage_usr_30)"
   ]
  },
  {
   "cell_type": "code",
   "execution_count": 13,
   "metadata": {
    "collapsed": true
   },
   "outputs": [],
   "source": [
    "days_used_mean=df_30.groupby('user')['usage'].mean()"
   ]
  },
  {
   "cell_type": "markdown",
   "metadata": {
    "collapsed": true,
    "scrolled": true
   },
   "source": [
    "## 3. Compute first day users started using"
   ]
  },
  {
   "cell_type": "code",
   "execution_count": 6,
   "metadata": {},
   "outputs": [
    {
     "data": {
      "text/html": [
       "<div>\n",
       "<style>\n",
       "    .dataframe thead tr:only-child th {\n",
       "        text-align: right;\n",
       "    }\n",
       "\n",
       "    .dataframe thead th {\n",
       "        text-align: left;\n",
       "    }\n",
       "\n",
       "    .dataframe tbody tr th {\n",
       "        vertical-align: top;\n",
       "    }\n",
       "</style>\n",
       "<table border=\"1\" class=\"dataframe\">\n",
       "  <thead>\n",
       "    <tr style=\"text-align: right;\">\n",
       "      <th></th>\n",
       "      <th>day</th>\n",
       "      <th>usage</th>\n",
       "    </tr>\n",
       "    <tr>\n",
       "      <th>user</th>\n",
       "      <th></th>\n",
       "      <th></th>\n",
       "    </tr>\n",
       "  </thead>\n",
       "  <tbody>\n",
       "    <tr>\n",
       "      <th>002b862b2604247ecfe7c9dc9d5fa41811a93d3e</th>\n",
       "      <td>44</td>\n",
       "      <td>1</td>\n",
       "    </tr>\n",
       "    <tr>\n",
       "      <th>0036892c09cc30ab1dec9999eb43189af4dd71b4</th>\n",
       "      <td>5</td>\n",
       "      <td>1</td>\n",
       "    </tr>\n",
       "    <tr>\n",
       "      <th>0048bc445cdbff2bba4963af21e881c8645a6cdb</th>\n",
       "      <td>147</td>\n",
       "      <td>1</td>\n",
       "    </tr>\n",
       "    <tr>\n",
       "      <th>004ac21e94c7a42e6c93835062602402056f2443</th>\n",
       "      <td>14</td>\n",
       "      <td>1</td>\n",
       "    </tr>\n",
       "    <tr>\n",
       "      <th>00510bfdb09f06057ffebc04b259a673dc38cb8b</th>\n",
       "      <td>175</td>\n",
       "      <td>1</td>\n",
       "    </tr>\n",
       "    <tr>\n",
       "      <th>00548c658c50f6254b0ab132ef22424579a0b0d0</th>\n",
       "      <td>214</td>\n",
       "      <td>1</td>\n",
       "    </tr>\n",
       "    <tr>\n",
       "      <th>0074824c7bc3ebea47f098c670947fe1422d5ad0</th>\n",
       "      <td>104</td>\n",
       "      <td>1</td>\n",
       "    </tr>\n",
       "    <tr>\n",
       "      <th>008bcb6164ffbf3839c8511b07412b4ded4d5ce1</th>\n",
       "      <td>289</td>\n",
       "      <td>1</td>\n",
       "    </tr>\n",
       "    <tr>\n",
       "      <th>008dff2bb55d5aef4de4a2a772a3a86cb1d7ba80</th>\n",
       "      <td>56</td>\n",
       "      <td>1</td>\n",
       "    </tr>\n",
       "    <tr>\n",
       "      <th>00a209930462551cd6c6c6d4ac2461c7ba4059f0</th>\n",
       "      <td>28</td>\n",
       "      <td>1</td>\n",
       "    </tr>\n",
       "  </tbody>\n",
       "</table>\n",
       "</div>"
      ],
      "text/plain": [
       "                                          day  usage\n",
       "user                                                \n",
       "002b862b2604247ecfe7c9dc9d5fa41811a93d3e   44      1\n",
       "0036892c09cc30ab1dec9999eb43189af4dd71b4    5      1\n",
       "0048bc445cdbff2bba4963af21e881c8645a6cdb  147      1\n",
       "004ac21e94c7a42e6c93835062602402056f2443   14      1\n",
       "00510bfdb09f06057ffebc04b259a673dc38cb8b  175      1\n",
       "00548c658c50f6254b0ab132ef22424579a0b0d0  214      1\n",
       "0074824c7bc3ebea47f098c670947fe1422d5ad0  104      1\n",
       "008bcb6164ffbf3839c8511b07412b4ded4d5ce1  289      1\n",
       "008dff2bb55d5aef4de4a2a772a3a86cb1d7ba80   56      1\n",
       "00a209930462551cd6c6c6d4ac2461c7ba4059f0   28      1"
      ]
     },
     "execution_count": 6,
     "metadata": {},
     "output_type": "execute_result"
    }
   ],
   "source": [
    "days_of_usage=df_30.loc[df_30['usage']==1]\n",
    "first_day=days_of_usage.groupby('user').nth(0)\n",
    "first_day.head(10)"
   ]
  },
  {
   "cell_type": "code",
   "execution_count": 7,
   "metadata": {
    "scrolled": true
   },
   "outputs": [
    {
     "data": {
      "text/html": [
       "<div>\n",
       "<style>\n",
       "    .dataframe thead tr:only-child th {\n",
       "        text-align: right;\n",
       "    }\n",
       "\n",
       "    .dataframe thead th {\n",
       "        text-align: left;\n",
       "    }\n",
       "\n",
       "    .dataframe tbody tr th {\n",
       "        vertical-align: top;\n",
       "    }\n",
       "</style>\n",
       "<table border=\"1\" class=\"dataframe\">\n",
       "  <thead>\n",
       "    <tr style=\"text-align: right;\">\n",
       "      <th></th>\n",
       "      <th>day</th>\n",
       "      <th>usage</th>\n",
       "    </tr>\n",
       "    <tr>\n",
       "      <th>user</th>\n",
       "      <th></th>\n",
       "      <th></th>\n",
       "    </tr>\n",
       "  </thead>\n",
       "  <tbody>\n",
       "    <tr>\n",
       "      <th>00097b5304ac028d14ec093cba2c41f76126fab4</th>\n",
       "      <td>0</td>\n",
       "      <td>0</td>\n",
       "    </tr>\n",
       "    <tr>\n",
       "      <th>002b862b2604247ecfe7c9dc9d5fa41811a93d3e</th>\n",
       "      <td>44</td>\n",
       "      <td>1</td>\n",
       "    </tr>\n",
       "    <tr>\n",
       "      <th>0036892c09cc30ab1dec9999eb43189af4dd71b4</th>\n",
       "      <td>4</td>\n",
       "      <td>0</td>\n",
       "    </tr>\n",
       "    <tr>\n",
       "      <th>0040b11703e9dd8d7c8e5b8b46f64d20b642eb71</th>\n",
       "      <td>56</td>\n",
       "      <td>0</td>\n",
       "    </tr>\n",
       "    <tr>\n",
       "      <th>0048bc445cdbff2bba4963af21e881c8645a6cdb</th>\n",
       "      <td>147</td>\n",
       "      <td>1</td>\n",
       "    </tr>\n",
       "    <tr>\n",
       "      <th>004ac21e94c7a42e6c93835062602402056f2443</th>\n",
       "      <td>13</td>\n",
       "      <td>0</td>\n",
       "    </tr>\n",
       "    <tr>\n",
       "      <th>00510bfdb09f06057ffebc04b259a673dc38cb8b</th>\n",
       "      <td>175</td>\n",
       "      <td>1</td>\n",
       "    </tr>\n",
       "    <tr>\n",
       "      <th>00548c658c50f6254b0ab132ef22424579a0b0d0</th>\n",
       "      <td>214</td>\n",
       "      <td>1</td>\n",
       "    </tr>\n",
       "    <tr>\n",
       "      <th>0074824c7bc3ebea47f098c670947fe1422d5ad0</th>\n",
       "      <td>97</td>\n",
       "      <td>0</td>\n",
       "    </tr>\n",
       "    <tr>\n",
       "      <th>008092a153c4933e5dfba5aabee2ea97c13a9620</th>\n",
       "      <td>211</td>\n",
       "      <td>0</td>\n",
       "    </tr>\n",
       "  </tbody>\n",
       "</table>\n",
       "</div>"
      ],
      "text/plain": [
       "                                          day  usage\n",
       "user                                                \n",
       "00097b5304ac028d14ec093cba2c41f76126fab4    0      0\n",
       "002b862b2604247ecfe7c9dc9d5fa41811a93d3e   44      1\n",
       "0036892c09cc30ab1dec9999eb43189af4dd71b4    4      0\n",
       "0040b11703e9dd8d7c8e5b8b46f64d20b642eb71   56      0\n",
       "0048bc445cdbff2bba4963af21e881c8645a6cdb  147      1\n",
       "004ac21e94c7a42e6c93835062602402056f2443   13      0\n",
       "00510bfdb09f06057ffebc04b259a673dc38cb8b  175      1\n",
       "00548c658c50f6254b0ab132ef22424579a0b0d0  214      1\n",
       "0074824c7bc3ebea47f098c670947fe1422d5ad0   97      0\n",
       "008092a153c4933e5dfba5aabee2ea97c13a9620  211      0"
      ]
     },
     "execution_count": 7,
     "metadata": {},
     "output_type": "execute_result"
    }
   ],
   "source": [
    "first_row=df_30.groupby('user').nth(0)\n",
    "first_row.head(10)"
   ]
  },
  {
   "cell_type": "code",
   "execution_count": 9,
   "metadata": {},
   "outputs": [],
   "source": [
    "#first_row.index.tolist()"
   ]
  },
  {
   "cell_type": "code",
   "execution_count": 21,
   "metadata": {},
   "outputs": [
    {
     "data": {
      "text/plain": [
       "5"
      ]
     },
     "execution_count": 21,
     "metadata": {},
     "output_type": "execute_result"
    }
   ],
   "source": [
    "first_day.index.tolist().index('0036892c09cc30ab1dec9999eb43189af4dd71b4')\n",
    "first_day['day'][1]"
   ]
  },
  {
   "cell_type": "code",
   "execution_count": 32,
   "metadata": {
    "collapsed": true
   },
   "outputs": [],
   "source": [
    "first_day_all=[]\n",
    "\n",
    "for i1, ur in enumerate(first_row.index.tolist()):\n",
    "    try:\n",
    "        i2 = first_day.index.tolist().index(ur)\n",
    "        # print(first_day['day'][i2] - first_row['day'][i1] + 1)\n",
    "        first_day_all.append(first_day['day'][i2] - first_row['day'][i1] + 1)\n",
    "    except:\n",
    "        # print('Missing')\n",
    "        first_day_all.append(0)\n",
    "\n",
    "# print(first_day_all)"
   ]
  },
  {
   "cell_type": "code",
   "execution_count": 38,
   "metadata": {
    "scrolled": true
   },
   "outputs": [
    {
     "name": "stdout",
     "output_type": "stream",
     "text": [
      "5149\n",
      "5149\n",
      "5149\n"
     ]
    }
   ],
   "source": [
    "print(len(first_day_all))\n",
    "print(len(longest_no_usage_list_30))\n",
    "print(len(days_used))\n"
   ]
  },
  {
   "cell_type": "code",
   "execution_count": 46,
   "metadata": {
    "scrolled": false
   },
   "outputs": [
    {
     "data": {
      "text/html": [
       "<div>\n",
       "<style>\n",
       "    .dataframe thead tr:only-child th {\n",
       "        text-align: right;\n",
       "    }\n",
       "\n",
       "    .dataframe thead th {\n",
       "        text-align: left;\n",
       "    }\n",
       "\n",
       "    .dataframe tbody tr th {\n",
       "        vertical-align: top;\n",
       "    }\n",
       "</style>\n",
       "<table border=\"1\" class=\"dataframe\">\n",
       "  <thead>\n",
       "    <tr style=\"text-align: right;\">\n",
       "      <th></th>\n",
       "      <th>sum_usage</th>\n",
       "      <th>first_day_all</th>\n",
       "      <th>longest_no_usage_list_30</th>\n",
       "      <th>user_id</th>\n",
       "    </tr>\n",
       "    <tr>\n",
       "      <th>user</th>\n",
       "      <th></th>\n",
       "      <th></th>\n",
       "      <th></th>\n",
       "      <th></th>\n",
       "    </tr>\n",
       "  </thead>\n",
       "  <tbody>\n",
       "    <tr>\n",
       "      <th>00097b5304ac028d14ec093cba2c41f76126fab4</th>\n",
       "      <td>0</td>\n",
       "      <td>0</td>\n",
       "      <td>30</td>\n",
       "      <td>00097b5304ac028d14ec093cba2c41f76126fab4</td>\n",
       "    </tr>\n",
       "    <tr>\n",
       "      <th>002b862b2604247ecfe7c9dc9d5fa41811a93d3e</th>\n",
       "      <td>14</td>\n",
       "      <td>1</td>\n",
       "      <td>8</td>\n",
       "      <td>002b862b2604247ecfe7c9dc9d5fa41811a93d3e</td>\n",
       "    </tr>\n",
       "    <tr>\n",
       "      <th>0036892c09cc30ab1dec9999eb43189af4dd71b4</th>\n",
       "      <td>29</td>\n",
       "      <td>2</td>\n",
       "      <td>1</td>\n",
       "      <td>0036892c09cc30ab1dec9999eb43189af4dd71b4</td>\n",
       "    </tr>\n",
       "    <tr>\n",
       "      <th>0040b11703e9dd8d7c8e5b8b46f64d20b642eb71</th>\n",
       "      <td>0</td>\n",
       "      <td>0</td>\n",
       "      <td>30</td>\n",
       "      <td>0040b11703e9dd8d7c8e5b8b46f64d20b642eb71</td>\n",
       "    </tr>\n",
       "    <tr>\n",
       "      <th>0048bc445cdbff2bba4963af21e881c8645a6cdb</th>\n",
       "      <td>22</td>\n",
       "      <td>1</td>\n",
       "      <td>3</td>\n",
       "      <td>0048bc445cdbff2bba4963af21e881c8645a6cdb</td>\n",
       "    </tr>\n",
       "  </tbody>\n",
       "</table>\n",
       "</div>"
      ],
      "text/plain": [
       "                                          sum_usage  first_day_all  \\\n",
       "user                                                                 \n",
       "00097b5304ac028d14ec093cba2c41f76126fab4          0              0   \n",
       "002b862b2604247ecfe7c9dc9d5fa41811a93d3e         14              1   \n",
       "0036892c09cc30ab1dec9999eb43189af4dd71b4         29              2   \n",
       "0040b11703e9dd8d7c8e5b8b46f64d20b642eb71          0              0   \n",
       "0048bc445cdbff2bba4963af21e881c8645a6cdb         22              1   \n",
       "\n",
       "                                          longest_no_usage_list_30  \\\n",
       "user                                                                 \n",
       "00097b5304ac028d14ec093cba2c41f76126fab4                        30   \n",
       "002b862b2604247ecfe7c9dc9d5fa41811a93d3e                         8   \n",
       "0036892c09cc30ab1dec9999eb43189af4dd71b4                         1   \n",
       "0040b11703e9dd8d7c8e5b8b46f64d20b642eb71                        30   \n",
       "0048bc445cdbff2bba4963af21e881c8645a6cdb                         3   \n",
       "\n",
       "                                                                           user_id  \n",
       "user                                                                                \n",
       "00097b5304ac028d14ec093cba2c41f76126fab4  00097b5304ac028d14ec093cba2c41f76126fab4  \n",
       "002b862b2604247ecfe7c9dc9d5fa41811a93d3e  002b862b2604247ecfe7c9dc9d5fa41811a93d3e  \n",
       "0036892c09cc30ab1dec9999eb43189af4dd71b4  0036892c09cc30ab1dec9999eb43189af4dd71b4  \n",
       "0040b11703e9dd8d7c8e5b8b46f64d20b642eb71  0040b11703e9dd8d7c8e5b8b46f64d20b642eb71  \n",
       "0048bc445cdbff2bba4963af21e881c8645a6cdb  0048bc445cdbff2bba4963af21e881c8645a6cdb  "
      ]
     },
     "execution_count": 46,
     "metadata": {},
     "output_type": "execute_result"
    }
   ],
   "source": [
    "days_used['first_day_all']=first_day_all\n",
    "days_used['longest_no_usage_list_30']=longest_no_usage_list_30\n",
    "days_used['user_id']=first_row.index.tolist()\n",
    "days_used = days_used.rename(columns={'usage': 'sum_usage'})\n",
    "days_used.head()"
   ]
  },
  {
   "cell_type": "markdown",
   "metadata": {},
   "source": [
    "# Compute churn: 30 days of inactivity following the first 30 days of usage"
   ]
  },
  {
   "cell_type": "markdown",
   "metadata": {},
   "source": [
    "### First compute usage sum for 60 days and substract the usage sum for 30 days. If the result is more than 1 assign 1 to that user. This forms the predictor values"
   ]
  },
  {
   "cell_type": "code",
   "execution_count": 11,
   "metadata": {
    "scrolled": true
   },
   "outputs": [
    {
     "data": {
      "text/plain": [
       "273769"
      ]
     },
     "execution_count": 11,
     "metadata": {},
     "output_type": "execute_result"
    }
   ],
   "source": [
    "df_60=df.groupby('user').head(60)\n",
    "len(df_60)"
   ]
  },
  {
   "cell_type": "code",
   "execution_count": 12,
   "metadata": {
    "scrolled": false
   },
   "outputs": [
    {
     "data": {
      "text/html": [
       "<div>\n",
       "<style>\n",
       "    .dataframe thead tr:only-child th {\n",
       "        text-align: right;\n",
       "    }\n",
       "\n",
       "    .dataframe thead th {\n",
       "        text-align: left;\n",
       "    }\n",
       "\n",
       "    .dataframe tbody tr th {\n",
       "        vertical-align: top;\n",
       "    }\n",
       "</style>\n",
       "<table border=\"1\" class=\"dataframe\">\n",
       "  <thead>\n",
       "    <tr style=\"text-align: right;\">\n",
       "      <th></th>\n",
       "      <th>usage</th>\n",
       "    </tr>\n",
       "    <tr>\n",
       "      <th>user</th>\n",
       "      <th></th>\n",
       "    </tr>\n",
       "  </thead>\n",
       "  <tbody>\n",
       "    <tr>\n",
       "      <th>00097b5304ac028d14ec093cba2c41f76126fab4</th>\n",
       "      <td>1</td>\n",
       "    </tr>\n",
       "    <tr>\n",
       "      <th>002b862b2604247ecfe7c9dc9d5fa41811a93d3e</th>\n",
       "      <td>23</td>\n",
       "    </tr>\n",
       "    <tr>\n",
       "      <th>0036892c09cc30ab1dec9999eb43189af4dd71b4</th>\n",
       "      <td>58</td>\n",
       "    </tr>\n",
       "    <tr>\n",
       "      <th>0040b11703e9dd8d7c8e5b8b46f64d20b642eb71</th>\n",
       "      <td>1</td>\n",
       "    </tr>\n",
       "    <tr>\n",
       "      <th>0048bc445cdbff2bba4963af21e881c8645a6cdb</th>\n",
       "      <td>42</td>\n",
       "    </tr>\n",
       "    <tr>\n",
       "      <th>004ac21e94c7a42e6c93835062602402056f2443</th>\n",
       "      <td>34</td>\n",
       "    </tr>\n",
       "    <tr>\n",
       "      <th>00510bfdb09f06057ffebc04b259a673dc38cb8b</th>\n",
       "      <td>57</td>\n",
       "    </tr>\n",
       "    <tr>\n",
       "      <th>00548c658c50f6254b0ab132ef22424579a0b0d0</th>\n",
       "      <td>57</td>\n",
       "    </tr>\n",
       "    <tr>\n",
       "      <th>0074824c7bc3ebea47f098c670947fe1422d5ad0</th>\n",
       "      <td>3</td>\n",
       "    </tr>\n",
       "    <tr>\n",
       "      <th>008092a153c4933e5dfba5aabee2ea97c13a9620</th>\n",
       "      <td>0</td>\n",
       "    </tr>\n",
       "  </tbody>\n",
       "</table>\n",
       "</div>"
      ],
      "text/plain": [
       "                                          usage\n",
       "user                                           \n",
       "00097b5304ac028d14ec093cba2c41f76126fab4      1\n",
       "002b862b2604247ecfe7c9dc9d5fa41811a93d3e     23\n",
       "0036892c09cc30ab1dec9999eb43189af4dd71b4     58\n",
       "0040b11703e9dd8d7c8e5b8b46f64d20b642eb71      1\n",
       "0048bc445cdbff2bba4963af21e881c8645a6cdb     42\n",
       "004ac21e94c7a42e6c93835062602402056f2443     34\n",
       "00510bfdb09f06057ffebc04b259a673dc38cb8b     57\n",
       "00548c658c50f6254b0ab132ef22424579a0b0d0     57\n",
       "0074824c7bc3ebea47f098c670947fe1422d5ad0      3\n",
       "008092a153c4933e5dfba5aabee2ea97c13a9620      0"
      ]
     },
     "execution_count": 12,
     "metadata": {},
     "output_type": "execute_result"
    }
   ],
   "source": [
    "days_used_60=df_60.groupby('user')['usage'].sum()\n",
    "days_used_60=pd.DataFrame(days_used_60)\n",
    "days_used_60.head(10)"
   ]
  },
  {
   "cell_type": "code",
   "execution_count": 16,
   "metadata": {
    "scrolled": true
   },
   "outputs": [
    {
     "data": {
      "text/html": [
       "<div>\n",
       "<style>\n",
       "    .dataframe thead tr:only-child th {\n",
       "        text-align: right;\n",
       "    }\n",
       "\n",
       "    .dataframe thead th {\n",
       "        text-align: left;\n",
       "    }\n",
       "\n",
       "    .dataframe tbody tr th {\n",
       "        vertical-align: top;\n",
       "    }\n",
       "</style>\n",
       "<table border=\"1\" class=\"dataframe\">\n",
       "  <thead>\n",
       "    <tr style=\"text-align: right;\">\n",
       "      <th></th>\n",
       "      <th>diff</th>\n",
       "    </tr>\n",
       "    <tr>\n",
       "      <th>user</th>\n",
       "      <th></th>\n",
       "    </tr>\n",
       "  </thead>\n",
       "  <tbody>\n",
       "    <tr>\n",
       "      <th>00097b5304ac028d14ec093cba2c41f76126fab4</th>\n",
       "      <td>1</td>\n",
       "    </tr>\n",
       "    <tr>\n",
       "      <th>002b862b2604247ecfe7c9dc9d5fa41811a93d3e</th>\n",
       "      <td>9</td>\n",
       "    </tr>\n",
       "    <tr>\n",
       "      <th>0036892c09cc30ab1dec9999eb43189af4dd71b4</th>\n",
       "      <td>29</td>\n",
       "    </tr>\n",
       "    <tr>\n",
       "      <th>0040b11703e9dd8d7c8e5b8b46f64d20b642eb71</th>\n",
       "      <td>1</td>\n",
       "    </tr>\n",
       "    <tr>\n",
       "      <th>0048bc445cdbff2bba4963af21e881c8645a6cdb</th>\n",
       "      <td>20</td>\n",
       "    </tr>\n",
       "    <tr>\n",
       "      <th>004ac21e94c7a42e6c93835062602402056f2443</th>\n",
       "      <td>14</td>\n",
       "    </tr>\n",
       "    <tr>\n",
       "      <th>00510bfdb09f06057ffebc04b259a673dc38cb8b</th>\n",
       "      <td>28</td>\n",
       "    </tr>\n",
       "    <tr>\n",
       "      <th>00548c658c50f6254b0ab132ef22424579a0b0d0</th>\n",
       "      <td>30</td>\n",
       "    </tr>\n",
       "    <tr>\n",
       "      <th>0074824c7bc3ebea47f098c670947fe1422d5ad0</th>\n",
       "      <td>1</td>\n",
       "    </tr>\n",
       "    <tr>\n",
       "      <th>008092a153c4933e5dfba5aabee2ea97c13a9620</th>\n",
       "      <td>0</td>\n",
       "    </tr>\n",
       "  </tbody>\n",
       "</table>\n",
       "</div>"
      ],
      "text/plain": [
       "                                          diff\n",
       "user                                          \n",
       "00097b5304ac028d14ec093cba2c41f76126fab4     1\n",
       "002b862b2604247ecfe7c9dc9d5fa41811a93d3e     9\n",
       "0036892c09cc30ab1dec9999eb43189af4dd71b4    29\n",
       "0040b11703e9dd8d7c8e5b8b46f64d20b642eb71     1\n",
       "0048bc445cdbff2bba4963af21e881c8645a6cdb    20\n",
       "004ac21e94c7a42e6c93835062602402056f2443    14\n",
       "00510bfdb09f06057ffebc04b259a673dc38cb8b    28\n",
       "00548c658c50f6254b0ab132ef22424579a0b0d0    30\n",
       "0074824c7bc3ebea47f098c670947fe1422d5ad0     1\n",
       "008092a153c4933e5dfba5aabee2ea97c13a9620     0"
      ]
     },
     "execution_count": 16,
     "metadata": {},
     "output_type": "execute_result"
    }
   ],
   "source": [
    "ch_total=days_used_60['usage']-days_used['sum_usage']\n",
    "ch_total=pd.DataFrame(ch_total, columns=['diff'])\n",
    "ch_total.head(10)"
   ]
  },
  {
   "cell_type": "code",
   "execution_count": 17,
   "metadata": {
    "scrolled": true
   },
   "outputs": [
    {
     "data": {
      "text/html": [
       "<div>\n",
       "<style>\n",
       "    .dataframe thead tr:only-child th {\n",
       "        text-align: right;\n",
       "    }\n",
       "\n",
       "    .dataframe thead th {\n",
       "        text-align: left;\n",
       "    }\n",
       "\n",
       "    .dataframe tbody tr th {\n",
       "        vertical-align: top;\n",
       "    }\n",
       "</style>\n",
       "<table border=\"1\" class=\"dataframe\">\n",
       "  <thead>\n",
       "    <tr style=\"text-align: right;\">\n",
       "      <th></th>\n",
       "      <th>diff</th>\n",
       "    </tr>\n",
       "    <tr>\n",
       "      <th>user</th>\n",
       "      <th></th>\n",
       "    </tr>\n",
       "  </thead>\n",
       "  <tbody>\n",
       "    <tr>\n",
       "      <th>00097b5304ac028d14ec093cba2c41f76126fab4</th>\n",
       "      <td>1</td>\n",
       "    </tr>\n",
       "    <tr>\n",
       "      <th>002b862b2604247ecfe7c9dc9d5fa41811a93d3e</th>\n",
       "      <td>1</td>\n",
       "    </tr>\n",
       "    <tr>\n",
       "      <th>0036892c09cc30ab1dec9999eb43189af4dd71b4</th>\n",
       "      <td>1</td>\n",
       "    </tr>\n",
       "    <tr>\n",
       "      <th>0040b11703e9dd8d7c8e5b8b46f64d20b642eb71</th>\n",
       "      <td>1</td>\n",
       "    </tr>\n",
       "    <tr>\n",
       "      <th>0048bc445cdbff2bba4963af21e881c8645a6cdb</th>\n",
       "      <td>1</td>\n",
       "    </tr>\n",
       "    <tr>\n",
       "      <th>004ac21e94c7a42e6c93835062602402056f2443</th>\n",
       "      <td>1</td>\n",
       "    </tr>\n",
       "    <tr>\n",
       "      <th>00510bfdb09f06057ffebc04b259a673dc38cb8b</th>\n",
       "      <td>1</td>\n",
       "    </tr>\n",
       "    <tr>\n",
       "      <th>00548c658c50f6254b0ab132ef22424579a0b0d0</th>\n",
       "      <td>1</td>\n",
       "    </tr>\n",
       "    <tr>\n",
       "      <th>0074824c7bc3ebea47f098c670947fe1422d5ad0</th>\n",
       "      <td>1</td>\n",
       "    </tr>\n",
       "    <tr>\n",
       "      <th>008092a153c4933e5dfba5aabee2ea97c13a9620</th>\n",
       "      <td>0</td>\n",
       "    </tr>\n",
       "  </tbody>\n",
       "</table>\n",
       "</div>"
      ],
      "text/plain": [
       "                                          diff\n",
       "user                                          \n",
       "00097b5304ac028d14ec093cba2c41f76126fab4     1\n",
       "002b862b2604247ecfe7c9dc9d5fa41811a93d3e     1\n",
       "0036892c09cc30ab1dec9999eb43189af4dd71b4     1\n",
       "0040b11703e9dd8d7c8e5b8b46f64d20b642eb71     1\n",
       "0048bc445cdbff2bba4963af21e881c8645a6cdb     1\n",
       "004ac21e94c7a42e6c93835062602402056f2443     1\n",
       "00510bfdb09f06057ffebc04b259a673dc38cb8b     1\n",
       "00548c658c50f6254b0ab132ef22424579a0b0d0     1\n",
       "0074824c7bc3ebea47f098c670947fe1422d5ad0     1\n",
       "008092a153c4933e5dfba5aabee2ea97c13a9620     0"
      ]
     },
     "execution_count": 17,
     "metadata": {},
     "output_type": "execute_result"
    }
   ],
   "source": [
    "ch_bool=ch_total.copy()\n",
    "ch_bool.loc[ch_bool['diff'] > 1, 'diff'] = 1\n",
    "ch_bool.head(10)"
   ]
  },
  {
   "cell_type": "code",
   "execution_count": 18,
   "metadata": {},
   "outputs": [
    {
     "data": {
      "text/html": [
       "<div>\n",
       "<style>\n",
       "    .dataframe thead tr:only-child th {\n",
       "        text-align: right;\n",
       "    }\n",
       "\n",
       "    .dataframe thead th {\n",
       "        text-align: left;\n",
       "    }\n",
       "\n",
       "    .dataframe tbody tr th {\n",
       "        vertical-align: top;\n",
       "    }\n",
       "</style>\n",
       "<table border=\"1\" class=\"dataframe\">\n",
       "  <thead>\n",
       "    <tr style=\"text-align: right;\">\n",
       "      <th></th>\n",
       "      <th>sum_usage</th>\n",
       "      <th>churn</th>\n",
       "    </tr>\n",
       "    <tr>\n",
       "      <th>user</th>\n",
       "      <th></th>\n",
       "      <th></th>\n",
       "    </tr>\n",
       "  </thead>\n",
       "  <tbody>\n",
       "    <tr>\n",
       "      <th>00097b5304ac028d14ec093cba2c41f76126fab4</th>\n",
       "      <td>0</td>\n",
       "      <td>1</td>\n",
       "    </tr>\n",
       "    <tr>\n",
       "      <th>002b862b2604247ecfe7c9dc9d5fa41811a93d3e</th>\n",
       "      <td>14</td>\n",
       "      <td>1</td>\n",
       "    </tr>\n",
       "    <tr>\n",
       "      <th>0036892c09cc30ab1dec9999eb43189af4dd71b4</th>\n",
       "      <td>29</td>\n",
       "      <td>1</td>\n",
       "    </tr>\n",
       "    <tr>\n",
       "      <th>0040b11703e9dd8d7c8e5b8b46f64d20b642eb71</th>\n",
       "      <td>0</td>\n",
       "      <td>1</td>\n",
       "    </tr>\n",
       "    <tr>\n",
       "      <th>0048bc445cdbff2bba4963af21e881c8645a6cdb</th>\n",
       "      <td>22</td>\n",
       "      <td>1</td>\n",
       "    </tr>\n",
       "    <tr>\n",
       "      <th>004ac21e94c7a42e6c93835062602402056f2443</th>\n",
       "      <td>20</td>\n",
       "      <td>1</td>\n",
       "    </tr>\n",
       "    <tr>\n",
       "      <th>00510bfdb09f06057ffebc04b259a673dc38cb8b</th>\n",
       "      <td>29</td>\n",
       "      <td>1</td>\n",
       "    </tr>\n",
       "    <tr>\n",
       "      <th>00548c658c50f6254b0ab132ef22424579a0b0d0</th>\n",
       "      <td>27</td>\n",
       "      <td>1</td>\n",
       "    </tr>\n",
       "    <tr>\n",
       "      <th>0074824c7bc3ebea47f098c670947fe1422d5ad0</th>\n",
       "      <td>2</td>\n",
       "      <td>1</td>\n",
       "    </tr>\n",
       "    <tr>\n",
       "      <th>008092a153c4933e5dfba5aabee2ea97c13a9620</th>\n",
       "      <td>0</td>\n",
       "      <td>0</td>\n",
       "    </tr>\n",
       "  </tbody>\n",
       "</table>\n",
       "</div>"
      ],
      "text/plain": [
       "                                          sum_usage  churn\n",
       "user                                                      \n",
       "00097b5304ac028d14ec093cba2c41f76126fab4          0      1\n",
       "002b862b2604247ecfe7c9dc9d5fa41811a93d3e         14      1\n",
       "0036892c09cc30ab1dec9999eb43189af4dd71b4         29      1\n",
       "0040b11703e9dd8d7c8e5b8b46f64d20b642eb71          0      1\n",
       "0048bc445cdbff2bba4963af21e881c8645a6cdb         22      1\n",
       "004ac21e94c7a42e6c93835062602402056f2443         20      1\n",
       "00510bfdb09f06057ffebc04b259a673dc38cb8b         29      1\n",
       "00548c658c50f6254b0ab132ef22424579a0b0d0         27      1\n",
       "0074824c7bc3ebea47f098c670947fe1422d5ad0          2      1\n",
       "008092a153c4933e5dfba5aabee2ea97c13a9620          0      0"
      ]
     },
     "execution_count": 18,
     "metadata": {},
     "output_type": "execute_result"
    }
   ],
   "source": [
    "days_used['churn']=ch_bool['diff']\n",
    "days_used.head(10)"
   ]
  },
  {
   "cell_type": "code",
   "execution_count": 59,
   "metadata": {
    "scrolled": true
   },
   "outputs": [
    {
     "name": "stdout",
     "output_type": "stream",
     "text": [
      "<class 'pandas.core.frame.DataFrame'>\n",
      "Index: 5149 entries, 00097b5304ac028d14ec093cba2c41f76126fab4 to ffe49fb47ef4028061866472b8e9201763cc1816\n",
      "Data columns (total 5 columns):\n",
      "sum_usage                   5149 non-null int64\n",
      "first_day_all               5149 non-null int64\n",
      "longest_no_usage_list_30    5149 non-null int64\n",
      "user_id                     5149 non-null object\n",
      "churn                       5149 non-null int64\n",
      "dtypes: int64(4), object(1)\n",
      "memory usage: 241.4+ KB\n"
     ]
    }
   ],
   "source": [
    "days_used.info()"
   ]
  },
  {
   "cell_type": "code",
   "execution_count": 86,
   "metadata": {
    "collapsed": true
   },
   "outputs": [],
   "source": [
    "days_used = days_used.reset_index(drop=True)"
   ]
  },
  {
   "cell_type": "markdown",
   "metadata": {},
   "source": [
    "# Get features"
   ]
  },
  {
   "cell_type": "code",
   "execution_count": 87,
   "metadata": {
    "scrolled": true
   },
   "outputs": [
    {
     "name": "stdout",
     "output_type": "stream",
     "text": [
      "   sum_usage  first_day_all  longest_no_usage_list_30\n",
      "0          0              0                        30\n",
      "1         14              1                         8\n",
      "2         29              2                         1\n",
      "3          0              0                        30\n",
      "4         22              1                         3\n",
      "5         20              2                         4\n",
      "6         29              1                         1\n",
      "7         27              1                         1\n",
      "8          2              8                        19\n",
      "9          0              0                        30\n"
     ]
    }
   ],
   "source": [
    "X=days_used.drop(['user_id','churn'], axis=1)\n",
    "print(X[0:10])"
   ]
  },
  {
   "cell_type": "code",
   "execution_count": 88,
   "metadata": {},
   "outputs": [
    {
     "name": "stdout",
     "output_type": "stream",
     "text": [
      "[1 1 1 1 1 1 1 1 1 0]\n"
     ]
    }
   ],
   "source": [
    "y=days_used[['churn']].values.ravel()\n",
    "print(y[0:10])"
   ]
  },
  {
   "cell_type": "markdown",
   "metadata": {},
   "source": [
    "# Check for correlated features and drop highly correlated"
   ]
  },
  {
   "cell_type": "code",
   "execution_count": 89,
   "metadata": {},
   "outputs": [
    {
     "data": {
      "text/plain": [
       "<matplotlib.axes._subplots.AxesSubplot at 0x7fa699260c50>"
      ]
     },
     "execution_count": 89,
     "metadata": {},
     "output_type": "execute_result"
    },
    {
     "data": {
      "image/png": "[encoded data removed]",
      "text/plain": [
       "<matplotlib.figure.Figure at 0x7fa6991dfef0>"
      ]
     },
     "metadata": {},
     "output_type": "display_data"
    }
   ],
   "source": [
    "\n",
    "# Compute the correlation matrix\n",
    "corr = X.corr()\n",
    "\n",
    "# Generate a mask for the upper triangle\n",
    "mask = np.zeros_like(corr, dtype=np.bool)\n",
    "mask[np.triu_indices_from(mask)] = True\n",
    "\n",
    "# Set up the matplotlib figure\n",
    "f, ax = plt.subplots(figsize=(11, 9))\n",
    "\n",
    "# Generate a custom diverging colormap\n",
    "cmap = sns.diverging_palette(220, 10, as_cmap=True)\n",
    "\n",
    "# Draw the heatmap with the mask and correct aspect ratio\n",
    "sns.heatmap(corr, mask=mask, cmap=cmap, vmax=.3, center=0,\n",
    "            square=True, linewidths=.5, cbar_kws={\"shrink\": .5})"
   ]
  },
  {
   "cell_type": "code",
   "execution_count": 92,
   "metadata": {},
   "outputs": [
    {
     "name": "stdout",
     "output_type": "stream",
     "text": [
      "   sum_usage  first_day_all  longest_no_usage_list_30\n",
      "0          0              0                        30\n",
      "1         14              1                         8\n",
      "2         29              2                         1\n",
      "3          0              0                        30\n",
      "4         22              1                         3\n",
      "5         20              2                         4\n",
      "6         29              1                         1\n",
      "7         27              1                         1\n",
      "8          2              8                        19\n",
      "9          0              0                        30\n"
     ]
    }
   ],
   "source": [
    "print(X[0:10])"
   ]
  },
  {
   "cell_type": "markdown",
   "metadata": {},
   "source": [
    "# Use first pass Random Forest to train classifier for categorical data"
   ]
  },
  {
   "cell_type": "code",
   "execution_count": 106,
   "metadata": {
    "scrolled": true
   },
   "outputs": [
    {
     "name": "stdout",
     "output_type": "stream",
     "text": [
      "X_train Shape ::  (3861, 3)\n",
      "X_test Shape ::  (1288, 3)\n",
      "y_train Shape ::  (3861,)\n",
      "y_test Shape ::  (1288,)\n"
     ]
    }
   ],
   "source": [
    "X_train0, X_test0, y_train0, y_test0 = train_test_split(X, y,\n",
    "                                                   random_state = 0)\n",
    "print (\"X_train Shape :: \", X_train0.shape)\n",
    "print (\"X_test Shape :: \", X_test0.shape)\n",
    "print (\"y_train Shape :: \", y_train0.shape)\n",
    "print (\"y_test Shape :: \", y_test0.shape)\n",
    "\n",
    "\n",
    "clf0 = RandomForestClassifier(n_estimators=120, criterion='entropy', max_depth=8,\n",
    "                             min_samples_leaf=6,random_state=0).fit(X_train0, y_train0)"
   ]
  },
  {
   "cell_type": "code",
   "execution_count": 93,
   "metadata": {},
   "outputs": [
    {
     "name": "stdout",
     "output_type": "stream",
     "text": [
      "Tuned Logistic Regression Parameters: {'C': 0.05179474679231213}\n",
      "Best score is 0.7961667961667962\n"
     ]
    }
   ],
   "source": [
    "# Setup the hyperparameter grid, (not scaled data)\n",
    "param_grid = {'C': np.logspace(-5, 8, 15)}\n",
    "\n",
    "# Instantiate a logistic regression classifier: logreg\n",
    "logreg = LogisticRegression()\n",
    "\n",
    "# Instantiate the GridSearchCV object: logreg_cv\n",
    "logreg_cv = GridSearchCV(logreg,param_grid , cv=5)\n",
    "\n",
    "\n",
    "# Fit it to the data\n",
    "logreg_cv.fit(X_train0, y_train0)\n",
    "\n",
    "# Print the tuned parameters and score\n",
    "print(\"Tuned Logistic Regression Parameters: {}\".format(logreg_cv.best_params_)) \n",
    "print(\"Best score is {}\".format(logreg_cv.best_score_))"
   ]
  },
  {
   "cell_type": "code",
   "execution_count": 94,
   "metadata": {
    "collapsed": true
   },
   "outputs": [],
   "source": [
    "class_pred = logreg_cv.predict(X_test0)"
   ]
  },
  {
   "cell_type": "code",
   "execution_count": 95,
   "metadata": {},
   "outputs": [
    {
     "name": "stdout",
     "output_type": "stream",
     "text": [
      "Testing accuracy is:  0.796583850931677\n"
     ]
    }
   ],
   "source": [
    "print(\"Testing accuracy is: \", accuracy_score(y_test0, class_pred))"
   ]
  },
  {
   "cell_type": "code",
   "execution_count": 96,
   "metadata": {
    "scrolled": true
   },
   "outputs": [
    {
     "data": {
      "text/plain": [
       "<matplotlib.text.Text at 0x7fa69914a0f0>"
      ]
     },
     "execution_count": 96,
     "metadata": {},
     "output_type": "execute_result"
    },
    {
     "data": {
      "image/png": "[encoded data removed]",
      "text/plain": [
       "<matplotlib.figure.Figure at 0x7fa699277128>"
      ]
     },
     "metadata": {},
     "output_type": "display_data"
    }
   ],
   "source": [
    "from sklearn.metrics import confusion_matrix\n",
    "import itertools\n",
    "cnf_mat = confusion_matrix(y_test0, class_pred)\n",
    "\n",
    "# Plot out\n",
    "plt.figure()\n",
    "plt.imshow(cnf_mat, interpolation='nearest', cmap=plt.cm.Blues)\n",
    "plt.title(\"Confusion Matrix for Logistic Regression\")\n",
    "plt.colorbar()\n",
    "classNames = ['churn', 'noCHurn']\n",
    "tick_marks = np.arange(len(classNames))\n",
    "plt.xticks(tick_marks, classNames, rotation=45)\n",
    "plt.yticks(tick_marks, classNames)\n",
    "\n",
    "# Generate text showing the number of correctly and mis-classified samples in each cell\n",
    "fmt = 'd'\n",
    "thresh = cnf_mat.max() / 2.\n",
    "for i, j in itertools.product(range(cnf_mat.shape[0]), range(cnf_mat.shape[1])):\n",
    "    plt.text(j, i, format(cnf_mat[i, j], fmt),\n",
    "             horizontalalignment=\"center\",\n",
    "             color=\"white\" if cnf_mat[i, j] > thresh else \"black\")\n",
    "plt.ylabel('True label')\n",
    "plt.xlabel('Predicted label')"
   ]
  },
  {
   "cell_type": "code",
   "execution_count": 97,
   "metadata": {},
   "outputs": [
    {
     "name": "stdout",
     "output_type": "stream",
     "text": [
      "F1 score  0.8768796992481204\n",
      "Recall: 0.9800420168067226\n",
      "Precision: 0.7933673469387755\n"
     ]
    }
   ],
   "source": [
    "print (\"F1 score \", f1_score(y_test0, class_pred))\n",
    "print ('Recall:', recall_score(y_test0, class_pred))\n",
    "print ('Precision:', precision_score(y_test0, class_pred))"
   ]
  },
  {
   "cell_type": "markdown",
   "metadata": {},
   "source": [
    "## I split the training set to check for the performance metrics of my predictive algorithm"
   ]
  },
  {
   "cell_type": "code",
   "execution_count": 107,
   "metadata": {
    "scrolled": true
   },
   "outputs": [
    {
     "name": "stdout",
     "output_type": "stream",
     "text": [
      "Trained model ::  RandomForestClassifier(bootstrap=True, class_weight=None, criterion='entropy',\n",
      "            max_depth=8, max_features='auto', max_leaf_nodes=None,\n",
      "            min_impurity_decrease=0.0, min_impurity_split=None,\n",
      "            min_samples_leaf=6, min_samples_split=2,\n",
      "            min_weight_fraction_leaf=0.0, n_estimators=120, n_jobs=1,\n",
      "            oob_score=False, random_state=0, verbose=0, warm_start=False)\n",
      "Train Accuracy ::  0.8363118363118364\n",
      "Test Accuracy  ::  0.8206521739130435\n",
      "Confusion matrix  [[120 216]\n",
      " [ 15 937]]\n",
      "F1 score  0.8902612826603324\n",
      "Recall: 0.9842436974789915\n",
      "Precision: 0.8126626192541196\n"
     ]
    }
   ],
   "source": [
    "    print (\"Trained model :: \", clf0)\n",
    "    predictions0 = clf0.predict(X_test0)\n",
    " \n",
    "    print (\"Train Accuracy :: \", accuracy_score(y_train0, clf0.predict(X_train0)))\n",
    "    print (\"Test Accuracy  :: \", accuracy_score(y_test0, predictions0))\n",
    "    print (\"Confusion matrix \", confusion_matrix(y_test0, predictions0))\n",
    "    print (\"F1 score \", f1_score(y_test0, predictions0))\n",
    "    print ('Recall:', recall_score(y_test0, predictions0))\n",
    "    print ('Precision:', precision_score(y_test0, predictions0))"
   ]
  },
  {
   "cell_type": "code",
   "execution_count": 100,
   "metadata": {
    "scrolled": false
   },
   "outputs": [
    {
     "name": "stdout",
     "output_type": "stream",
     "text": [
      "Feature ranking:\n",
      "1. feature 0 (0.541148)\n",
      "2. feature 2 (0.381484)\n",
      "3. feature 1 (0.077369)\n"
     ]
    }
   ],
   "source": [
    "importances0 = clf0.feature_importances_\n",
    "std = np.std([tree.feature_importances_ for tree in clf0.estimators_],\n",
    "             axis=0)\n",
    "indices0 = np.argsort(importances0)[::-1]\n",
    "\n",
    "# Print the feature ranking\n",
    "print(\"Feature ranking:\")\n",
    "\n",
    "for f in range(X.shape[1]):\n",
    "    print(\"%d. feature %d (%f)\" % (f + 1, indices0[f], importances0[indices0[f]]))"
   ]
  },
  {
   "cell_type": "code",
   "execution_count": 101,
   "metadata": {
    "scrolled": false
   },
   "outputs": [
    {
     "data": {
      "image/png": "[encoded data removed]",
      "text/plain": [
       "<matplotlib.figure.Figure at 0x7fa6991abe10>"
      ]
     },
     "metadata": {},
     "output_type": "display_data"
    }
   ],
   "source": [
    "ind0=np.where(clf0.feature_importances_>0.02)\n",
    "z0=clf0.feature_importances_[ind0]\n",
    "\n",
    "pdf0 = pd.DataFrame(columns=['import','name','std'])\n",
    "pdf0['import']=z0\n",
    "pdf0['name'] = pd.Series(X.columns[ind0], index=pdf0.index)\n",
    "pdf0['std'] = pd.Series(std[ind0], index=pdf0.index)\n",
    "pdf10=pdf0.sort_values(['import'], ascending=False)\n",
    "\n",
    "\n",
    "pdf10.plot(x='name', y='import',kind='barh',color='orangered',legend=False,title='Top important features')\n",
    "#plt.xticks(rotation=50)\n",
    "ax1 = plt.axes()\n",
    "x_axis = ax1.axes.get_xaxis()\n",
    "x_axis.set_label_text('Relative Importances')\n",
    "y_axis = ax1.axes.get_yaxis()\n",
    "y_axis.set_label_text('')\n",
    "ax1.yaxis.grid(False)\n",
    "plt.show()\n",
    "\n"
   ]
  },
  {
   "cell_type": "code",
   "execution_count": null,
   "metadata": {
    "collapsed": true
   },
   "outputs": [],
   "source": [
    "ind0=np.where(clf0.feature_importances_<0.02)\n",
    "z0=clf0.feature_importances_[ind0]\n",
    "\n",
    "pdf0 = pd.DataFrame(columns=['import','name','std'])\n",
    "pdf0['import']=z0\n",
    "pdf0['name'] = pd.Series(X.columns[ind0], index=pdf0.index)\n",
    "pdf0['std'] = pd.Series(std[ind0], index=pdf0.index)\n",
    "pdf10=pdf0.sort_values(['import'], ascending=False)\n",
    "\n",
    "\n",
    "pdf10.plot(x='name', y='import',kind='barh',color='y',legend=False,title='Least important features')\n",
    "#plt.xticks(rotation=50)\n",
    "ax1 = plt.axes()\n",
    "x_axis = ax1.axes.get_xaxis()\n",
    "x_axis.set_label_text('Relative Importances')\n",
    "y_axis = ax1.axes.get_yaxis()\n",
    "y_axis.set_label_text('')\n",
    "ax1.yaxis.grid(False)\n",
    "plt.show()\n"
   ]
  },
  {
   "cell_type": "markdown",
   "metadata": {},
   "source": [
    "## Perform grid search with 5 fold CV to optimize for accuracy"
   ]
  },
  {
   "cell_type": "code",
   "execution_count": 109,
   "metadata": {},
   "outputs": [
    {
     "name": "stdout",
     "output_type": "stream",
     "text": [
      "Grid scores on development set:\n",
      "0.827 (+/-0.015) for {'criterion': 'entropy', 'max_depth': 8, 'min_samples_leaf': 2, 'n_estimators': 120}\n",
      "0.826 (+/-0.017) for {'criterion': 'entropy', 'max_depth': 8, 'min_samples_leaf': 2, 'n_estimators': 240}\n",
      "0.827 (+/-0.016) for {'criterion': 'entropy', 'max_depth': 8, 'min_samples_leaf': 2, 'n_estimators': 260}\n",
      "0.827 (+/-0.016) for {'criterion': 'entropy', 'max_depth': 8, 'min_samples_leaf': 2, 'n_estimators': 300}\n",
      "0.826 (+/-0.012) for {'criterion': 'entropy', 'max_depth': 8, 'min_samples_leaf': 2, 'n_estimators': 360}\n",
      "0.826 (+/-0.016) for {'criterion': 'entropy', 'max_depth': 8, 'min_samples_leaf': 4, 'n_estimators': 120}\n",
      "0.825 (+/-0.019) for {'criterion': 'entropy', 'max_depth': 8, 'min_samples_leaf': 4, 'n_estimators': 240}\n",
      "0.825 (+/-0.018) for {'criterion': 'entropy', 'max_depth': 8, 'min_samples_leaf': 4, 'n_estimators': 260}\n",
      "0.826 (+/-0.018) for {'criterion': 'entropy', 'max_depth': 8, 'min_samples_leaf': 4, 'n_estimators': 300}\n",
      "0.826 (+/-0.018) for {'criterion': 'entropy', 'max_depth': 8, 'min_samples_leaf': 4, 'n_estimators': 360}\n",
      "0.825 (+/-0.019) for {'criterion': 'entropy', 'max_depth': 8, 'min_samples_leaf': 5, 'n_estimators': 120}\n",
      "0.824 (+/-0.019) for {'criterion': 'entropy', 'max_depth': 8, 'min_samples_leaf': 5, 'n_estimators': 240}\n",
      "0.825 (+/-0.019) for {'criterion': 'entropy', 'max_depth': 8, 'min_samples_leaf': 5, 'n_estimators': 260}\n",
      "0.825 (+/-0.016) for {'criterion': 'entropy', 'max_depth': 8, 'min_samples_leaf': 5, 'n_estimators': 300}\n",
      "0.826 (+/-0.018) for {'criterion': 'entropy', 'max_depth': 8, 'min_samples_leaf': 5, 'n_estimators': 360}\n",
      "0.824 (+/-0.023) for {'criterion': 'entropy', 'max_depth': 8, 'min_samples_leaf': 6, 'n_estimators': 120}\n",
      "0.825 (+/-0.016) for {'criterion': 'entropy', 'max_depth': 8, 'min_samples_leaf': 6, 'n_estimators': 240}\n",
      "0.825 (+/-0.016) for {'criterion': 'entropy', 'max_depth': 8, 'min_samples_leaf': 6, 'n_estimators': 260}\n",
      "0.824 (+/-0.020) for {'criterion': 'entropy', 'max_depth': 8, 'min_samples_leaf': 6, 'n_estimators': 300}\n",
      "0.826 (+/-0.018) for {'criterion': 'entropy', 'max_depth': 8, 'min_samples_leaf': 6, 'n_estimators': 360}\n",
      "0.823 (+/-0.017) for {'criterion': 'entropy', 'max_depth': 12, 'min_samples_leaf': 2, 'n_estimators': 120}\n",
      "0.821 (+/-0.016) for {'criterion': 'entropy', 'max_depth': 12, 'min_samples_leaf': 2, 'n_estimators': 240}\n",
      "0.822 (+/-0.019) for {'criterion': 'entropy', 'max_depth': 12, 'min_samples_leaf': 2, 'n_estimators': 260}\n",
      "0.822 (+/-0.016) for {'criterion': 'entropy', 'max_depth': 12, 'min_samples_leaf': 2, 'n_estimators': 300}\n",
      "0.821 (+/-0.018) for {'criterion': 'entropy', 'max_depth': 12, 'min_samples_leaf': 2, 'n_estimators': 360}\n",
      "0.822 (+/-0.017) for {'criterion': 'entropy', 'max_depth': 12, 'min_samples_leaf': 4, 'n_estimators': 120}\n",
      "0.824 (+/-0.018) for {'criterion': 'entropy', 'max_depth': 12, 'min_samples_leaf': 4, 'n_estimators': 240}\n",
      "0.825 (+/-0.018) for {'criterion': 'entropy', 'max_depth': 12, 'min_samples_leaf': 4, 'n_estimators': 260}\n",
      "0.825 (+/-0.017) for {'criterion': 'entropy', 'max_depth': 12, 'min_samples_leaf': 4, 'n_estimators': 300}\n",
      "0.823 (+/-0.016) for {'criterion': 'entropy', 'max_depth': 12, 'min_samples_leaf': 4, 'n_estimators': 360}\n",
      "0.823 (+/-0.020) for {'criterion': 'entropy', 'max_depth': 12, 'min_samples_leaf': 5, 'n_estimators': 120}\n",
      "0.823 (+/-0.019) for {'criterion': 'entropy', 'max_depth': 12, 'min_samples_leaf': 5, 'n_estimators': 240}\n",
      "0.824 (+/-0.018) for {'criterion': 'entropy', 'max_depth': 12, 'min_samples_leaf': 5, 'n_estimators': 260}\n",
      "0.822 (+/-0.018) for {'criterion': 'entropy', 'max_depth': 12, 'min_samples_leaf': 5, 'n_estimators': 300}\n",
      "0.823 (+/-0.022) for {'criterion': 'entropy', 'max_depth': 12, 'min_samples_leaf': 5, 'n_estimators': 360}\n",
      "0.820 (+/-0.019) for {'criterion': 'entropy', 'max_depth': 12, 'min_samples_leaf': 6, 'n_estimators': 120}\n",
      "0.821 (+/-0.019) for {'criterion': 'entropy', 'max_depth': 12, 'min_samples_leaf': 6, 'n_estimators': 240}\n",
      "0.821 (+/-0.021) for {'criterion': 'entropy', 'max_depth': 12, 'min_samples_leaf': 6, 'n_estimators': 260}\n",
      "0.821 (+/-0.023) for {'criterion': 'entropy', 'max_depth': 12, 'min_samples_leaf': 6, 'n_estimators': 300}\n",
      "0.821 (+/-0.020) for {'criterion': 'entropy', 'max_depth': 12, 'min_samples_leaf': 6, 'n_estimators': 360}\n",
      "0.812 (+/-0.021) for {'criterion': 'entropy', 'max_depth': 20, 'min_samples_leaf': 2, 'n_estimators': 120}\n",
      "0.814 (+/-0.020) for {'criterion': 'entropy', 'max_depth': 20, 'min_samples_leaf': 2, 'n_estimators': 240}\n",
      "0.813 (+/-0.021) for {'criterion': 'entropy', 'max_depth': 20, 'min_samples_leaf': 2, 'n_estimators': 260}\n",
      "0.814 (+/-0.017) for {'criterion': 'entropy', 'max_depth': 20, 'min_samples_leaf': 2, 'n_estimators': 300}\n",
      "0.813 (+/-0.018) for {'criterion': 'entropy', 'max_depth': 20, 'min_samples_leaf': 2, 'n_estimators': 360}\n",
      "0.821 (+/-0.022) for {'criterion': 'entropy', 'max_depth': 20, 'min_samples_leaf': 4, 'n_estimators': 120}\n",
      "0.823 (+/-0.022) for {'criterion': 'entropy', 'max_depth': 20, 'min_samples_leaf': 4, 'n_estimators': 240}\n",
      "0.823 (+/-0.020) for {'criterion': 'entropy', 'max_depth': 20, 'min_samples_leaf': 4, 'n_estimators': 260}\n",
      "0.823 (+/-0.016) for {'criterion': 'entropy', 'max_depth': 20, 'min_samples_leaf': 4, 'n_estimators': 300}\n",
      "0.822 (+/-0.021) for {'criterion': 'entropy', 'max_depth': 20, 'min_samples_leaf': 4, 'n_estimators': 360}\n",
      "0.822 (+/-0.021) for {'criterion': 'entropy', 'max_depth': 20, 'min_samples_leaf': 5, 'n_estimators': 120}\n",
      "0.821 (+/-0.016) for {'criterion': 'entropy', 'max_depth': 20, 'min_samples_leaf': 5, 'n_estimators': 240}\n",
      "0.822 (+/-0.020) for {'criterion': 'entropy', 'max_depth': 20, 'min_samples_leaf': 5, 'n_estimators': 260}\n",
      "0.823 (+/-0.014) for {'criterion': 'entropy', 'max_depth': 20, 'min_samples_leaf': 5, 'n_estimators': 300}\n",
      "0.823 (+/-0.018) for {'criterion': 'entropy', 'max_depth': 20, 'min_samples_leaf': 5, 'n_estimators': 360}\n",
      "0.822 (+/-0.020) for {'criterion': 'entropy', 'max_depth': 20, 'min_samples_leaf': 6, 'n_estimators': 120}\n",
      "0.820 (+/-0.020) for {'criterion': 'entropy', 'max_depth': 20, 'min_samples_leaf': 6, 'n_estimators': 240}\n",
      "0.821 (+/-0.023) for {'criterion': 'entropy', 'max_depth': 20, 'min_samples_leaf': 6, 'n_estimators': 260}\n",
      "0.819 (+/-0.020) for {'criterion': 'entropy', 'max_depth': 20, 'min_samples_leaf': 6, 'n_estimators': 300}\n",
      "0.823 (+/-0.021) for {'criterion': 'entropy', 'max_depth': 20, 'min_samples_leaf': 6, 'n_estimators': 360}\n",
      "0.814 (+/-0.018) for {'criterion': 'entropy', 'max_depth': 30, 'min_samples_leaf': 2, 'n_estimators': 120}\n",
      "0.812 (+/-0.017) for {'criterion': 'entropy', 'max_depth': 30, 'min_samples_leaf': 2, 'n_estimators': 240}\n",
      "0.815 (+/-0.018) for {'criterion': 'entropy', 'max_depth': 30, 'min_samples_leaf': 2, 'n_estimators': 260}\n",
      "0.814 (+/-0.016) for {'criterion': 'entropy', 'max_depth': 30, 'min_samples_leaf': 2, 'n_estimators': 300}\n",
      "0.814 (+/-0.019) for {'criterion': 'entropy', 'max_depth': 30, 'min_samples_leaf': 2, 'n_estimators': 360}\n",
      "0.823 (+/-0.022) for {'criterion': 'entropy', 'max_depth': 30, 'min_samples_leaf': 4, 'n_estimators': 120}\n",
      "0.823 (+/-0.016) for {'criterion': 'entropy', 'max_depth': 30, 'min_samples_leaf': 4, 'n_estimators': 240}\n",
      "0.821 (+/-0.020) for {'criterion': 'entropy', 'max_depth': 30, 'min_samples_leaf': 4, 'n_estimators': 260}\n",
      "0.822 (+/-0.017) for {'criterion': 'entropy', 'max_depth': 30, 'min_samples_leaf': 4, 'n_estimators': 300}\n",
      "0.821 (+/-0.020) for {'criterion': 'entropy', 'max_depth': 30, 'min_samples_leaf': 4, 'n_estimators': 360}\n",
      "0.822 (+/-0.015) for {'criterion': 'entropy', 'max_depth': 30, 'min_samples_leaf': 5, 'n_estimators': 120}\n",
      "0.821 (+/-0.020) for {'criterion': 'entropy', 'max_depth': 30, 'min_samples_leaf': 5, 'n_estimators': 240}\n",
      "0.821 (+/-0.022) for {'criterion': 'entropy', 'max_depth': 30, 'min_samples_leaf': 5, 'n_estimators': 260}\n",
      "0.822 (+/-0.018) for {'criterion': 'entropy', 'max_depth': 30, 'min_samples_leaf': 5, 'n_estimators': 300}\n",
      "0.821 (+/-0.019) for {'criterion': 'entropy', 'max_depth': 30, 'min_samples_leaf': 5, 'n_estimators': 360}\n",
      "0.819 (+/-0.016) for {'criterion': 'entropy', 'max_depth': 30, 'min_samples_leaf': 6, 'n_estimators': 120}\n",
      "0.822 (+/-0.017) for {'criterion': 'entropy', 'max_depth': 30, 'min_samples_leaf': 6, 'n_estimators': 240}\n",
      "0.822 (+/-0.019) for {'criterion': 'entropy', 'max_depth': 30, 'min_samples_leaf': 6, 'n_estimators': 260}\n",
      "0.820 (+/-0.021) for {'criterion': 'entropy', 'max_depth': 30, 'min_samples_leaf': 6, 'n_estimators': 300}\n",
      "0.822 (+/-0.021) for {'criterion': 'entropy', 'max_depth': 30, 'min_samples_leaf': 6, 'n_estimators': 360}\n",
      "0.827 (+/-0.020) for {'criterion': 'gini', 'max_depth': 8, 'min_samples_leaf': 2, 'n_estimators': 120}\n",
      "0.827 (+/-0.016) for {'criterion': 'gini', 'max_depth': 8, 'min_samples_leaf': 2, 'n_estimators': 240}\n",
      "0.826 (+/-0.016) for {'criterion': 'gini', 'max_depth': 8, 'min_samples_leaf': 2, 'n_estimators': 260}\n",
      "0.828 (+/-0.017) for {'criterion': 'gini', 'max_depth': 8, 'min_samples_leaf': 2, 'n_estimators': 300}\n",
      "0.828 (+/-0.018) for {'criterion': 'gini', 'max_depth': 8, 'min_samples_leaf': 2, 'n_estimators': 360}\n",
      "0.826 (+/-0.018) for {'criterion': 'gini', 'max_depth': 8, 'min_samples_leaf': 4, 'n_estimators': 120}\n",
      "0.826 (+/-0.016) for {'criterion': 'gini', 'max_depth': 8, 'min_samples_leaf': 4, 'n_estimators': 240}\n",
      "0.826 (+/-0.015) for {'criterion': 'gini', 'max_depth': 8, 'min_samples_leaf': 4, 'n_estimators': 260}\n",
      "0.826 (+/-0.018) for {'criterion': 'gini', 'max_depth': 8, 'min_samples_leaf': 4, 'n_estimators': 300}\n",
      "0.825 (+/-0.018) for {'criterion': 'gini', 'max_depth': 8, 'min_samples_leaf': 4, 'n_estimators': 360}\n",
      "0.825 (+/-0.019) for {'criterion': 'gini', 'max_depth': 8, 'min_samples_leaf': 5, 'n_estimators': 120}\n",
      "0.824 (+/-0.016) for {'criterion': 'gini', 'max_depth': 8, 'min_samples_leaf': 5, 'n_estimators': 240}\n",
      "0.824 (+/-0.016) for {'criterion': 'gini', 'max_depth': 8, 'min_samples_leaf': 5, 'n_estimators': 260}\n",
      "0.825 (+/-0.019) for {'criterion': 'gini', 'max_depth': 8, 'min_samples_leaf': 5, 'n_estimators': 300}\n",
      "0.824 (+/-0.018) for {'criterion': 'gini', 'max_depth': 8, 'min_samples_leaf': 5, 'n_estimators': 360}\n",
      "0.825 (+/-0.018) for {'criterion': 'gini', 'max_depth': 8, 'min_samples_leaf': 6, 'n_estimators': 120}\n",
      "0.824 (+/-0.022) for {'criterion': 'gini', 'max_depth': 8, 'min_samples_leaf': 6, 'n_estimators': 240}\n",
      "0.823 (+/-0.017) for {'criterion': 'gini', 'max_depth': 8, 'min_samples_leaf': 6, 'n_estimators': 260}\n",
      "0.824 (+/-0.018) for {'criterion': 'gini', 'max_depth': 8, 'min_samples_leaf': 6, 'n_estimators': 300}\n",
      "0.824 (+/-0.016) for {'criterion': 'gini', 'max_depth': 8, 'min_samples_leaf': 6, 'n_estimators': 360}\n",
      "0.817 (+/-0.018) for {'criterion': 'gini', 'max_depth': 12, 'min_samples_leaf': 2, 'n_estimators': 120}\n",
      "0.820 (+/-0.016) for {'criterion': 'gini', 'max_depth': 12, 'min_samples_leaf': 2, 'n_estimators': 240}\n",
      "0.819 (+/-0.018) for {'criterion': 'gini', 'max_depth': 12, 'min_samples_leaf': 2, 'n_estimators': 260}\n",
      "0.820 (+/-0.017) for {'criterion': 'gini', 'max_depth': 12, 'min_samples_leaf': 2, 'n_estimators': 300}\n",
      "0.819 (+/-0.014) for {'criterion': 'gini', 'max_depth': 12, 'min_samples_leaf': 2, 'n_estimators': 360}\n",
      "0.824 (+/-0.017) for {'criterion': 'gini', 'max_depth': 12, 'min_samples_leaf': 4, 'n_estimators': 120}\n",
      "0.823 (+/-0.019) for {'criterion': 'gini', 'max_depth': 12, 'min_samples_leaf': 4, 'n_estimators': 240}\n",
      "0.822 (+/-0.015) for {'criterion': 'gini', 'max_depth': 12, 'min_samples_leaf': 4, 'n_estimators': 260}\n",
      "0.823 (+/-0.019) for {'criterion': 'gini', 'max_depth': 12, 'min_samples_leaf': 4, 'n_estimators': 300}\n",
      "0.824 (+/-0.019) for {'criterion': 'gini', 'max_depth': 12, 'min_samples_leaf': 4, 'n_estimators': 360}\n",
      "0.820 (+/-0.020) for {'criterion': 'gini', 'max_depth': 12, 'min_samples_leaf': 5, 'n_estimators': 120}\n",
      "0.823 (+/-0.017) for {'criterion': 'gini', 'max_depth': 12, 'min_samples_leaf': 5, 'n_estimators': 240}\n",
      "0.823 (+/-0.020) for {'criterion': 'gini', 'max_depth': 12, 'min_samples_leaf': 5, 'n_estimators': 260}\n",
      "0.822 (+/-0.020) for {'criterion': 'gini', 'max_depth': 12, 'min_samples_leaf': 5, 'n_estimators': 300}\n",
      "0.823 (+/-0.023) for {'criterion': 'gini', 'max_depth': 12, 'min_samples_leaf': 5, 'n_estimators': 360}\n",
      "0.820 (+/-0.023) for {'criterion': 'gini', 'max_depth': 12, 'min_samples_leaf': 6, 'n_estimators': 120}\n",
      "0.823 (+/-0.020) for {'criterion': 'gini', 'max_depth': 12, 'min_samples_leaf': 6, 'n_estimators': 240}\n",
      "0.822 (+/-0.021) for {'criterion': 'gini', 'max_depth': 12, 'min_samples_leaf': 6, 'n_estimators': 260}\n",
      "0.821 (+/-0.019) for {'criterion': 'gini', 'max_depth': 12, 'min_samples_leaf': 6, 'n_estimators': 300}\n",
      "0.822 (+/-0.021) for {'criterion': 'gini', 'max_depth': 12, 'min_samples_leaf': 6, 'n_estimators': 360}\n",
      "0.813 (+/-0.018) for {'criterion': 'gini', 'max_depth': 20, 'min_samples_leaf': 2, 'n_estimators': 120}\n",
      "0.813 (+/-0.015) for {'criterion': 'gini', 'max_depth': 20, 'min_samples_leaf': 2, 'n_estimators': 240}\n",
      "0.814 (+/-0.022) for {'criterion': 'gini', 'max_depth': 20, 'min_samples_leaf': 2, 'n_estimators': 260}\n",
      "0.813 (+/-0.022) for {'criterion': 'gini', 'max_depth': 20, 'min_samples_leaf': 2, 'n_estimators': 300}\n",
      "0.814 (+/-0.018) for {'criterion': 'gini', 'max_depth': 20, 'min_samples_leaf': 2, 'n_estimators': 360}\n",
      "0.822 (+/-0.020) for {'criterion': 'gini', 'max_depth': 20, 'min_samples_leaf': 4, 'n_estimators': 120}\n",
      "0.824 (+/-0.017) for {'criterion': 'gini', 'max_depth': 20, 'min_samples_leaf': 4, 'n_estimators': 240}\n",
      "0.822 (+/-0.019) for {'criterion': 'gini', 'max_depth': 20, 'min_samples_leaf': 4, 'n_estimators': 260}\n",
      "0.820 (+/-0.021) for {'criterion': 'gini', 'max_depth': 20, 'min_samples_leaf': 4, 'n_estimators': 300}\n",
      "0.821 (+/-0.019) for {'criterion': 'gini', 'max_depth': 20, 'min_samples_leaf': 4, 'n_estimators': 360}\n",
      "0.822 (+/-0.018) for {'criterion': 'gini', 'max_depth': 20, 'min_samples_leaf': 5, 'n_estimators': 120}\n",
      "0.822 (+/-0.021) for {'criterion': 'gini', 'max_depth': 20, 'min_samples_leaf': 5, 'n_estimators': 240}\n",
      "0.822 (+/-0.021) for {'criterion': 'gini', 'max_depth': 20, 'min_samples_leaf': 5, 'n_estimators': 260}\n",
      "0.823 (+/-0.017) for {'criterion': 'gini', 'max_depth': 20, 'min_samples_leaf': 5, 'n_estimators': 300}\n",
      "0.820 (+/-0.022) for {'criterion': 'gini', 'max_depth': 20, 'min_samples_leaf': 5, 'n_estimators': 360}\n",
      "0.822 (+/-0.019) for {'criterion': 'gini', 'max_depth': 20, 'min_samples_leaf': 6, 'n_estimators': 120}\n",
      "0.822 (+/-0.018) for {'criterion': 'gini', 'max_depth': 20, 'min_samples_leaf': 6, 'n_estimators': 240}\n",
      "0.822 (+/-0.025) for {'criterion': 'gini', 'max_depth': 20, 'min_samples_leaf': 6, 'n_estimators': 260}\n",
      "0.821 (+/-0.020) for {'criterion': 'gini', 'max_depth': 20, 'min_samples_leaf': 6, 'n_estimators': 300}\n",
      "0.823 (+/-0.018) for {'criterion': 'gini', 'max_depth': 20, 'min_samples_leaf': 6, 'n_estimators': 360}\n",
      "0.814 (+/-0.018) for {'criterion': 'gini', 'max_depth': 30, 'min_samples_leaf': 2, 'n_estimators': 120}\n",
      "0.814 (+/-0.015) for {'criterion': 'gini', 'max_depth': 30, 'min_samples_leaf': 2, 'n_estimators': 240}\n",
      "0.815 (+/-0.021) for {'criterion': 'gini', 'max_depth': 30, 'min_samples_leaf': 2, 'n_estimators': 260}\n",
      "0.814 (+/-0.019) for {'criterion': 'gini', 'max_depth': 30, 'min_samples_leaf': 2, 'n_estimators': 300}\n",
      "0.813 (+/-0.022) for {'criterion': 'gini', 'max_depth': 30, 'min_samples_leaf': 2, 'n_estimators': 360}\n",
      "0.818 (+/-0.024) for {'criterion': 'gini', 'max_depth': 30, 'min_samples_leaf': 4, 'n_estimators': 120}\n",
      "0.823 (+/-0.019) for {'criterion': 'gini', 'max_depth': 30, 'min_samples_leaf': 4, 'n_estimators': 240}\n",
      "0.823 (+/-0.017) for {'criterion': 'gini', 'max_depth': 30, 'min_samples_leaf': 4, 'n_estimators': 260}\n",
      "0.822 (+/-0.019) for {'criterion': 'gini', 'max_depth': 30, 'min_samples_leaf': 4, 'n_estimators': 300}\n",
      "0.821 (+/-0.019) for {'criterion': 'gini', 'max_depth': 30, 'min_samples_leaf': 4, 'n_estimators': 360}\n",
      "0.820 (+/-0.015) for {'criterion': 'gini', 'max_depth': 30, 'min_samples_leaf': 5, 'n_estimators': 120}\n",
      "0.823 (+/-0.018) for {'criterion': 'gini', 'max_depth': 30, 'min_samples_leaf': 5, 'n_estimators': 240}\n",
      "0.821 (+/-0.018) for {'criterion': 'gini', 'max_depth': 30, 'min_samples_leaf': 5, 'n_estimators': 260}\n",
      "0.823 (+/-0.013) for {'criterion': 'gini', 'max_depth': 30, 'min_samples_leaf': 5, 'n_estimators': 300}\n",
      "0.823 (+/-0.019) for {'criterion': 'gini', 'max_depth': 30, 'min_samples_leaf': 5, 'n_estimators': 360}\n",
      "0.821 (+/-0.022) for {'criterion': 'gini', 'max_depth': 30, 'min_samples_leaf': 6, 'n_estimators': 120}\n",
      "0.822 (+/-0.025) for {'criterion': 'gini', 'max_depth': 30, 'min_samples_leaf': 6, 'n_estimators': 240}\n",
      "0.821 (+/-0.019) for {'criterion': 'gini', 'max_depth': 30, 'min_samples_leaf': 6, 'n_estimators': 260}\n",
      "0.821 (+/-0.020) for {'criterion': 'gini', 'max_depth': 30, 'min_samples_leaf': 6, 'n_estimators': 300}\n",
      "0.822 (+/-0.019) for {'criterion': 'gini', 'max_depth': 30, 'min_samples_leaf': 6, 'n_estimators': 360}\n",
      "Best parameters set found on development set:\n",
      "{'criterion': 'gini', 'max_depth': 8, 'min_samples_leaf': 2, 'n_estimators': 360}\n",
      "Best Score found on development set:\n",
      "0.8282828282828283\n"
     ]
    }
   ],
   "source": [
    "param_grid = {'n_estimators': [120,240,260,300,360], \n",
    "              'max_depth': [8,12,20,30],\n",
    "              'min_samples_leaf':[2,4,5,6],\n",
    "               'criterion':['entropy','gini']\n",
    "              }\n",
    "\n",
    "# Setup 5 fold cross validation over grid search\n",
    "clf1 = GridSearchCV(RandomForestClassifier(), param_grid, cv=5, scoring=make_scorer(accuracy_score),n_jobs=-1) \n",
    "clf1.fit(X_train0, y_train0)\n",
    "\n",
    "print(\"Grid scores on development set:\")\n",
    "means = clf1.cv_results_['mean_test_score']\n",
    "stds = clf1.cv_results_['std_test_score']\n",
    "\n",
    "for mean, std, params in zip(means, stds, clf1.cv_results_['params']):\n",
    "    print(\"%0.3f (+/-%0.03f) for %r\" % (mean, std*2, params))\n",
    "\n",
    "print(\"Best parameters set found on development set:\")\n",
    "print(clf1.best_params_)\n",
    "print(\"Best Score found on development set:\")\n",
    "print(clf1.best_score_)"
   ]
  },
  {
   "cell_type": "code",
   "execution_count": 110,
   "metadata": {
    "collapsed": true
   },
   "outputs": [
    {
     "name": "stdout",
     "output_type": "stream",
     "text": [
      "Trained model ::  GridSearchCV(cv=5, error_score='raise',\n",
      "       estimator=RandomForestClassifier(bootstrap=True, class_weight=None, criterion='gini',\n",
      "            max_depth=None, max_features='auto', max_leaf_nodes=None,\n",
      "            min_impurity_decrease=0.0, min_impurity_split=None,\n",
      "            min_samples_leaf=1, min_samples_split=2,\n",
      "            min_weight_fraction_leaf=0.0, n_estimators=10, n_jobs=1,\n",
      "            oob_score=False, random_state=None, verbose=0,\n",
      "            warm_start=False),\n",
      "       fit_params=None, iid=True, n_jobs=-1,\n",
      "       param_grid={'n_estimators': [120, 240, 260, 300, 360], 'max_depth': [8, 12, 20, 30], 'min_samples_leaf': [2, 4, 5, 6], 'criterion': ['entropy', 'gini']},\n",
      "       pre_dispatch='2*n_jobs', refit=True, return_train_score=True,\n",
      "       scoring=make_scorer(accuracy_score), verbose=0)\n",
      "Train Accuracy ::  0.8404558404558404\n",
      "Test Accuracy  ::  0.8222049689440993\n",
      "Confusion matrix  [[123 213]\n",
      " [ 16 936]]\n",
      "F1 score  0.8910042836744407\n",
      "Recall: 0.9831932773109243\n",
      "Precision: 0.814621409921671\n"
     ]
    }
   ],
   "source": [
    "    print (\"Trained model :: \", clf1)\n",
    "    predictions1 = clf1.predict(X_test0)\n",
    " \n",
    "    print (\"Train Accuracy :: \", accuracy_score(y_train0, clf1.predict(X_train0)))\n",
    "    print (\"Test Accuracy  :: \", accuracy_score(y_test0, predictions1))\n",
    "    print (\"Confusion matrix \", confusion_matrix(y_test0, predictions1))\n",
    "    print (\"F1 score \", f1_score(y_test0, predictions1))\n",
    "    print ('Recall:', recall_score(y_test0, predictions1))\n",
    "    print ('Precision:', precision_score(y_test0, predictions1))"
   ]
  },
  {
   "cell_type": "code",
   "execution_count": null,
   "metadata": {
    "collapsed": true
   },
   "outputs": [],
   "source": []
  }
 ],
 "metadata": {
  "kernelspec": {
   "display_name": "Python 3",
   "language": "python",
   "name": "python3"
  },
  "language_info": {
   "codemirror_mode": {
    "name": "ipython",
    "version": 3
   },
   "file_extension": ".py",
   "mimetype": "text/x-python",
   "name": "python",
   "nbconvert_exporter": "python",
   "pygments_lexer": "ipython3",
   "version": "3.6.1"
  }
 },
 "nbformat": 4,
 "nbformat_minor": 2
}
